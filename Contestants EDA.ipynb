{
 "cells": [
  {
   "cell_type": "markdown",
   "metadata": {},
   "source": [
    "# Contestants EDA\n",
    "\n",
    "The purpose of this notebook is to examine the makeup of Jeopardy Contestants and their winnings. We begin by filtering for only non-tournament games, since tournaments and themed weeks do not follow the same conventions as regular season games. For example, in the regular season the third contestant is always the last episode's winner, which is not the case for tournaments and themed weeks. \n",
    "\n",
    "We begin by extracting data from the games.csv and converting it to a dataframe of just contestants and their winnings. Since all contestant data is stored in a column describing what number contestant they are, we create three dataframe for contestant_1, contestant_2 and returning_champion and then concatenate them together. One minor flaw in this process is that the winnings for 2nd place (2,000) and 3rd place (1,000) are not included. This means our analysis for winnings is applied only to the winnings of returning champions, and not the contestant population at large. "
   ]
  },
  {
   "cell_type": "markdown",
   "metadata": {},
   "source": [
    "### Data Preparation"
   ]
  },
  {
   "cell_type": "code",
   "execution_count": 14,
   "metadata": {},
   "outputs": [],
   "source": [
    "#Import packages and read in the data\n",
    "import os\n",
    "import pandas as pd\n",
    "import numpy as np\n",
    "import matplotlib.pyplot as plt\n",
    "pd.options.display.max_colwidth = 50\n",
    "pd.options.display.max_rows = 25\n",
    "os.chdir('C:\\\\Users\\\\mhous\\\\scrap\\\\JeopardyProject')\n",
    "df = pd.read_csv('games_clean.csv')"
   ]
  },
  {
   "cell_type": "code",
   "execution_count": 15,
   "metadata": {},
   "outputs": [
    {
     "name": "stdout",
     "output_type": "stream",
     "text": [
      "<class 'pandas.core.frame.DataFrame'>\n",
      "RangeIndex: 4282 entries, 0 to 4281\n",
      "Data columns (total 31 columns):\n",
      " #   Column                       Non-Null Count  Dtype  \n",
      "---  ------                       --------------  -----  \n",
      " 0   show_number                  4282 non-null   int64  \n",
      " 1   game_id                      4282 non-null   object \n",
      " 2   game_comments                2176 non-null   object \n",
      " 3   contestant_1                 4282 non-null   object \n",
      " 4   contestant_1_job             4266 non-null   object \n",
      " 5   contestant_1_city            4243 non-null   object \n",
      " 6   contestant_1_state           4176 non-null   object \n",
      " 7   contestant_2                 4282 non-null   object \n",
      " 8   contestant_2_job             4282 non-null   object \n",
      " 9   contestant_2_city            4282 non-null   object \n",
      " 10  contestant_2_state           4175 non-null   object \n",
      " 11  returning_champion           4282 non-null   object \n",
      " 12  returning_champion_job       4282 non-null   object \n",
      " 13  returning_champion_city      4281 non-null   object \n",
      " 14  returning_champion_state     4161 non-null   object \n",
      " 15  returning_champion_streak    3538 non-null   object \n",
      " 16  returning_champion_winnings  3480 non-null   float64\n",
      " 17  c_1_score_J                  4282 non-null   float64\n",
      " 18  c_2_score_J                  4282 non-null   float64\n",
      " 19  rc_score_J                   4282 non-null   float64\n",
      " 20  c_1_score_DJ                 4282 non-null   float64\n",
      " 21  c_2_score_DJ                 4282 non-null   float64\n",
      " 22  rc_score_DJ                  4282 non-null   float64\n",
      " 23  c_1_score_F                  4282 non-null   float64\n",
      " 24  c_2_score_F                  4282 non-null   float64\n",
      " 25  rc_score_F                   4282 non-null   float64\n",
      " 26  c_1_wager                    4282 non-null   float64\n",
      " 27  c_2_wager                    4282 non-null   float64\n",
      " 28  rc_wager                     4282 non-null   float64\n",
      " 29  winning_score                4282 non-null   float64\n",
      " 30  winning_contestant           4282 non-null   object \n",
      "dtypes: float64(14), int64(1), object(16)\n",
      "memory usage: 1.0+ MB\n"
     ]
    }
   ],
   "source": [
    "df.info()"
   ]
  },
  {
   "cell_type": "code",
   "execution_count": 16,
   "metadata": {},
   "outputs": [
    {
     "data": {
      "text/html": [
       "<div>\n",
       "<style scoped>\n",
       "    .dataframe tbody tr th:only-of-type {\n",
       "        vertical-align: middle;\n",
       "    }\n",
       "\n",
       "    .dataframe tbody tr th {\n",
       "        vertical-align: top;\n",
       "    }\n",
       "\n",
       "    .dataframe thead th {\n",
       "        text-align: right;\n",
       "    }\n",
       "</style>\n",
       "<table border=\"1\" class=\"dataframe\">\n",
       "  <thead>\n",
       "    <tr style=\"text-align: right;\">\n",
       "      <th></th>\n",
       "      <th>show_number</th>\n",
       "      <th>game_id</th>\n",
       "      <th>game_comments</th>\n",
       "      <th>contestant_1</th>\n",
       "      <th>contestant_1_job</th>\n",
       "      <th>contestant_1_city</th>\n",
       "      <th>contestant_1_state</th>\n",
       "      <th>contestant_2</th>\n",
       "      <th>contestant_2_job</th>\n",
       "      <th>contestant_2_city</th>\n",
       "      <th>...</th>\n",
       "      <th>c_2_score_DJ</th>\n",
       "      <th>rc_score_DJ</th>\n",
       "      <th>c_1_score_F</th>\n",
       "      <th>c_2_score_F</th>\n",
       "      <th>rc_score_F</th>\n",
       "      <th>c_1_wager</th>\n",
       "      <th>c_2_wager</th>\n",
       "      <th>rc_wager</th>\n",
       "      <th>winning_score</th>\n",
       "      <th>winning_contestant</th>\n",
       "    </tr>\n",
       "  </thead>\n",
       "  <tbody>\n",
       "    <tr>\n",
       "      <th>0</th>\n",
       "      <td>3966</td>\n",
       "      <td>Show #3966 - Monday, November 26, 2001</td>\n",
       "      <td>Clue dollar values are doubled.</td>\n",
       "      <td>Harold Skinner</td>\n",
       "      <td>a teacher and playwright</td>\n",
       "      <td>Columbia</td>\n",
       "      <td>South Carolina</td>\n",
       "      <td>Geoffrey Zimmerman</td>\n",
       "      <td>a lawyer</td>\n",
       "      <td>Toronto</td>\n",
       "      <td>...</td>\n",
       "      <td>3800.0</td>\n",
       "      <td>3400.0</td>\n",
       "      <td>7700.0</td>\n",
       "      <td>7600.0</td>\n",
       "      <td>0.0</td>\n",
       "      <td>2300.0</td>\n",
       "      <td>3800.0</td>\n",
       "      <td>3400.0</td>\n",
       "      <td>7700.0</td>\n",
       "      <td>Harold Skinner</td>\n",
       "    </tr>\n",
       "    <tr>\n",
       "      <th>1</th>\n",
       "      <td>3967</td>\n",
       "      <td>Show #3967 - Tuesday, November 27, 2001</td>\n",
       "      <td>NaN</td>\n",
       "      <td>Kris MacCubbin</td>\n",
       "      <td>a director of communication</td>\n",
       "      <td>Kensington</td>\n",
       "      <td>Maryland</td>\n",
       "      <td>Rebekah Lacey</td>\n",
       "      <td>an environmental scientist</td>\n",
       "      <td>Boston</td>\n",
       "      <td>...</td>\n",
       "      <td>15800.0</td>\n",
       "      <td>13400.0</td>\n",
       "      <td>12200.0</td>\n",
       "      <td>20800.0</td>\n",
       "      <td>0.0</td>\n",
       "      <td>4400.0</td>\n",
       "      <td>5000.0</td>\n",
       "      <td>13400.0</td>\n",
       "      <td>20800.0</td>\n",
       "      <td>Rebekah Lacey</td>\n",
       "    </tr>\n",
       "    <tr>\n",
       "      <th>2</th>\n",
       "      <td>3968</td>\n",
       "      <td>Show #3968 - Wednesday, November 28, 2001</td>\n",
       "      <td>(Cheryl: This is Cheryl from the Jeopardy! Clu...</td>\n",
       "      <td>Trish Miller</td>\n",
       "      <td>an administrative assistant</td>\n",
       "      <td>Boston</td>\n",
       "      <td>Massachusetts</td>\n",
       "      <td>Susan Rathke</td>\n",
       "      <td>a residential caregiver</td>\n",
       "      <td>Madison</td>\n",
       "      <td>...</td>\n",
       "      <td>15400.0</td>\n",
       "      <td>11200.0</td>\n",
       "      <td>15000.0</td>\n",
       "      <td>23400.0</td>\n",
       "      <td>6200.0</td>\n",
       "      <td>7000.0</td>\n",
       "      <td>8000.0</td>\n",
       "      <td>5000.0</td>\n",
       "      <td>23400.0</td>\n",
       "      <td>Susan Rathke</td>\n",
       "    </tr>\n",
       "    <tr>\n",
       "      <th>3</th>\n",
       "      <td>3969</td>\n",
       "      <td>Show #3969 - Thursday, November 29, 2001</td>\n",
       "      <td>(Sarah: I'm Sarah of the Clue Crew.  Today on ...</td>\n",
       "      <td>Adam Lipsius</td>\n",
       "      <td>a video professor and filmmaker</td>\n",
       "      <td>New York</td>\n",
       "      <td>New York</td>\n",
       "      <td>Frank Stasio</td>\n",
       "      <td>a data analyst</td>\n",
       "      <td>New York</td>\n",
       "      <td>...</td>\n",
       "      <td>15000.0</td>\n",
       "      <td>17000.0</td>\n",
       "      <td>2300.0</td>\n",
       "      <td>30000.0</td>\n",
       "      <td>13000.0</td>\n",
       "      <td>900.0</td>\n",
       "      <td>15000.0</td>\n",
       "      <td>4000.0</td>\n",
       "      <td>30000.0</td>\n",
       "      <td>Frank Stasio</td>\n",
       "    </tr>\n",
       "    <tr>\n",
       "      <th>4</th>\n",
       "      <td>3970</td>\n",
       "      <td>Show #3970 - Friday, November 30, 2001</td>\n",
       "      <td>(Sofia: Hi, this is Sofia of the Clue Crew.  T...</td>\n",
       "      <td>Charan Brahma</td>\n",
       "      <td>an attorney</td>\n",
       "      <td>Los Angeles</td>\n",
       "      <td>California</td>\n",
       "      <td>Lara Kierlin</td>\n",
       "      <td>a pre-med student</td>\n",
       "      <td>Hermosa Beach</td>\n",
       "      <td>...</td>\n",
       "      <td>7600.0</td>\n",
       "      <td>12000.0</td>\n",
       "      <td>500.0</td>\n",
       "      <td>3199.0</td>\n",
       "      <td>12000.0</td>\n",
       "      <td>11500.0</td>\n",
       "      <td>4401.0</td>\n",
       "      <td>0.0</td>\n",
       "      <td>12000.0</td>\n",
       "      <td>Frank Stasio</td>\n",
       "    </tr>\n",
       "  </tbody>\n",
       "</table>\n",
       "<p>5 rows × 31 columns</p>\n",
       "</div>"
      ],
      "text/plain": [
       "   show_number                                    game_id  \\\n",
       "0         3966     Show #3966 - Monday, November 26, 2001   \n",
       "1         3967    Show #3967 - Tuesday, November 27, 2001   \n",
       "2         3968  Show #3968 - Wednesday, November 28, 2001   \n",
       "3         3969   Show #3969 - Thursday, November 29, 2001   \n",
       "4         3970     Show #3970 - Friday, November 30, 2001   \n",
       "\n",
       "                                       game_comments    contestant_1  \\\n",
       "0                    Clue dollar values are doubled.  Harold Skinner   \n",
       "1                                                NaN  Kris MacCubbin   \n",
       "2  (Cheryl: This is Cheryl from the Jeopardy! Clu...    Trish Miller   \n",
       "3  (Sarah: I'm Sarah of the Clue Crew.  Today on ...    Adam Lipsius   \n",
       "4  (Sofia: Hi, this is Sofia of the Clue Crew.  T...   Charan Brahma   \n",
       "\n",
       "                   contestant_1_job contestant_1_city contestant_1_state  \\\n",
       "0         a teacher and playwright           Columbia     South Carolina   \n",
       "1      a director of communication         Kensington           Maryland   \n",
       "2      an administrative assistant             Boston      Massachusetts   \n",
       "3  a video professor and filmmaker           New York           New York   \n",
       "4                      an attorney        Los Angeles         California   \n",
       "\n",
       "         contestant_2              contestant_2_job contestant_2_city  ...  \\\n",
       "0  Geoffrey Zimmerman                     a lawyer            Toronto  ...   \n",
       "1       Rebekah Lacey   an environmental scientist             Boston  ...   \n",
       "2        Susan Rathke      a residential caregiver            Madison  ...   \n",
       "3        Frank Stasio               a data analyst           New York  ...   \n",
       "4        Lara Kierlin            a pre-med student      Hermosa Beach  ...   \n",
       "\n",
       "  c_2_score_DJ rc_score_DJ c_1_score_F c_2_score_F rc_score_F c_1_wager  \\\n",
       "0       3800.0      3400.0      7700.0      7600.0        0.0    2300.0   \n",
       "1      15800.0     13400.0     12200.0     20800.0        0.0    4400.0   \n",
       "2      15400.0     11200.0     15000.0     23400.0     6200.0    7000.0   \n",
       "3      15000.0     17000.0      2300.0     30000.0    13000.0     900.0   \n",
       "4       7600.0     12000.0       500.0      3199.0    12000.0   11500.0   \n",
       "\n",
       "   c_2_wager  rc_wager  winning_score  winning_contestant  \n",
       "0     3800.0    3400.0         7700.0      Harold Skinner  \n",
       "1     5000.0   13400.0        20800.0       Rebekah Lacey  \n",
       "2     8000.0    5000.0        23400.0        Susan Rathke  \n",
       "3    15000.0    4000.0        30000.0        Frank Stasio  \n",
       "4     4401.0       0.0        12000.0        Frank Stasio  \n",
       "\n",
       "[5 rows x 31 columns]"
      ]
     },
     "execution_count": 16,
     "metadata": {},
     "output_type": "execute_result"
    }
   ],
   "source": [
    "df.head()"
   ]
  },
  {
   "cell_type": "markdown",
   "metadata": {},
   "source": [
    "Some of the tournaments are not described as tournaments in the game comments, such as The Battle of the Decades and the College Championship. I also choose to remove non-tournament games that feature children (Back to School week, A Kids Week) since they are special events and the champions cannot continue playing indefinitely \n"
   ]
  },
  {
   "cell_type": "code",
   "execution_count": 17,
   "metadata": {},
   "outputs": [
    {
     "name": "stderr",
     "output_type": "stream",
     "text": [
      "C:\\Users\\mhous\\Anaconda3\\envs\\scrapy\\lib\\site-packages\\pandas\\core\\strings.py:2001: UserWarning: This pattern has match groups. To actually get the groups, use str.extract.\n",
      "  return func(self, *args, **kwargs)\n"
     ]
    },
    {
     "data": {
      "text/plain": [
       "True     3525\n",
       "False     757\n",
       "Name: game_comments, dtype: int64"
      ]
     },
     "execution_count": 17,
     "metadata": {},
     "output_type": "execute_result"
    }
   ],
   "source": [
    "#Count the number of torunament and non-tournament games\n",
    "df['game_comments'].str.contains(r'^((?![Tt]ournament |Battle | [Cc]hampionship |Back |Kids |Million ).)*$').fillna(True).value_counts()"
   ]
  },
  {
   "cell_type": "code",
   "execution_count": 18,
   "metadata": {},
   "outputs": [],
   "source": [
    "#Filter regular season games into reg_season\n",
    "reg_season = df[df['game_comments'].str.contains(r'^((?![Tt]ournament |Battle |[Cc]hampionship |Back |Kids |Million).)*$').fillna(True)]\n",
    "#tournaments = df[df['game_comments'].str.contains(r'([Tt]ournament |Battle |[Cc]hampionship |Back |Kids |Million)').fillna(False)]"
   ]
  },
  {
   "cell_type": "markdown",
   "metadata": {},
   "source": [
    "Now that we have all the regular season games in one dataframe, let's gather together all the data on the contestants. Since each contestant is designated as contestant_1, contestant_2, or returning champion, we make three dataframes for each one, relabel the columns, drop duplicates in for returning champions and keep the last entry, then concatenate them together. We then drop duplicates again, since every returning champion was once either contestant_1 or contestant_2"
   ]
  },
  {
   "cell_type": "code",
   "execution_count": 19,
   "metadata": {},
   "outputs": [],
   "source": [
    "c1_df = reg_season[['contestant_1', 'contestant_1_job', 'contestant_1_city', 'contestant_1_state']]\n",
    "c1_df.columns = ['contestant', 'job', 'city', 'state']"
   ]
  },
  {
   "cell_type": "code",
   "execution_count": 20,
   "metadata": {},
   "outputs": [
    {
     "data": {
      "text/html": [
       "<div>\n",
       "<style scoped>\n",
       "    .dataframe tbody tr th:only-of-type {\n",
       "        vertical-align: middle;\n",
       "    }\n",
       "\n",
       "    .dataframe tbody tr th {\n",
       "        vertical-align: top;\n",
       "    }\n",
       "\n",
       "    .dataframe thead th {\n",
       "        text-align: right;\n",
       "    }\n",
       "</style>\n",
       "<table border=\"1\" class=\"dataframe\">\n",
       "  <thead>\n",
       "    <tr style=\"text-align: right;\">\n",
       "      <th></th>\n",
       "      <th>contestant</th>\n",
       "      <th>job</th>\n",
       "      <th>city</th>\n",
       "      <th>state</th>\n",
       "    </tr>\n",
       "  </thead>\n",
       "  <tbody>\n",
       "    <tr>\n",
       "      <th>0</th>\n",
       "      <td>Harold Skinner</td>\n",
       "      <td>a teacher and playwright</td>\n",
       "      <td>Columbia</td>\n",
       "      <td>South Carolina</td>\n",
       "    </tr>\n",
       "    <tr>\n",
       "      <th>1</th>\n",
       "      <td>Kris MacCubbin</td>\n",
       "      <td>a director of communication</td>\n",
       "      <td>Kensington</td>\n",
       "      <td>Maryland</td>\n",
       "    </tr>\n",
       "    <tr>\n",
       "      <th>2</th>\n",
       "      <td>Trish Miller</td>\n",
       "      <td>an administrative assistant</td>\n",
       "      <td>Boston</td>\n",
       "      <td>Massachusetts</td>\n",
       "    </tr>\n",
       "    <tr>\n",
       "      <th>3</th>\n",
       "      <td>Adam Lipsius</td>\n",
       "      <td>a video professor and filmmaker</td>\n",
       "      <td>New York</td>\n",
       "      <td>New York</td>\n",
       "    </tr>\n",
       "    <tr>\n",
       "      <th>4</th>\n",
       "      <td>Charan Brahma</td>\n",
       "      <td>an attorney</td>\n",
       "      <td>Los Angeles</td>\n",
       "      <td>California</td>\n",
       "    </tr>\n",
       "  </tbody>\n",
       "</table>\n",
       "</div>"
      ],
      "text/plain": [
       "       contestant                               job          city  \\\n",
       "0  Harold Skinner         a teacher and playwright       Columbia   \n",
       "1  Kris MacCubbin      a director of communication     Kensington   \n",
       "2    Trish Miller      an administrative assistant         Boston   \n",
       "3    Adam Lipsius  a video professor and filmmaker       New York   \n",
       "4   Charan Brahma                      an attorney    Los Angeles   \n",
       "\n",
       "             state  \n",
       "0   South Carolina  \n",
       "1         Maryland  \n",
       "2    Massachusetts  \n",
       "3         New York  \n",
       "4       California  "
      ]
     },
     "execution_count": 20,
     "metadata": {},
     "output_type": "execute_result"
    }
   ],
   "source": [
    "c1_df.head()"
   ]
  },
  {
   "cell_type": "code",
   "execution_count": 21,
   "metadata": {},
   "outputs": [],
   "source": [
    "c2_df = reg_season[['contestant_2', 'contestant_2_job', 'contestant_2_city', 'contestant_2_state']]\n",
    "c2_df.columns = ['contestant', 'job', 'city', 'state']"
   ]
  },
  {
   "cell_type": "code",
   "execution_count": 22,
   "metadata": {},
   "outputs": [
    {
     "data": {
      "text/html": [
       "<div>\n",
       "<style scoped>\n",
       "    .dataframe tbody tr th:only-of-type {\n",
       "        vertical-align: middle;\n",
       "    }\n",
       "\n",
       "    .dataframe tbody tr th {\n",
       "        vertical-align: top;\n",
       "    }\n",
       "\n",
       "    .dataframe thead th {\n",
       "        text-align: right;\n",
       "    }\n",
       "</style>\n",
       "<table border=\"1\" class=\"dataframe\">\n",
       "  <thead>\n",
       "    <tr style=\"text-align: right;\">\n",
       "      <th></th>\n",
       "      <th>contestant</th>\n",
       "      <th>job</th>\n",
       "      <th>city</th>\n",
       "      <th>state</th>\n",
       "      <th>streak</th>\n",
       "      <th>winnings</th>\n",
       "    </tr>\n",
       "  </thead>\n",
       "  <tbody>\n",
       "    <tr>\n",
       "      <th>0</th>\n",
       "      <td>Kristin Lawhead</td>\n",
       "      <td>a multimedia artist</td>\n",
       "      <td>New Orleans</td>\n",
       "      <td>Louisiana</td>\n",
       "      <td>NaN</td>\n",
       "      <td>NaN</td>\n",
       "    </tr>\n",
       "    <tr>\n",
       "      <th>1</th>\n",
       "      <td>Harold Skinner</td>\n",
       "      <td>a teacher and playwright</td>\n",
       "      <td>Columbia</td>\n",
       "      <td>South Carolina</td>\n",
       "      <td>1</td>\n",
       "      <td>7700.0</td>\n",
       "    </tr>\n",
       "    <tr>\n",
       "      <th>2</th>\n",
       "      <td>Rebekah Lacey</td>\n",
       "      <td>an environmental scientist</td>\n",
       "      <td>Boston</td>\n",
       "      <td>Massachusetts</td>\n",
       "      <td>1</td>\n",
       "      <td>20800.0</td>\n",
       "    </tr>\n",
       "    <tr>\n",
       "      <th>3</th>\n",
       "      <td>Susan Rathke</td>\n",
       "      <td>a residential caregiver</td>\n",
       "      <td>Madison</td>\n",
       "      <td>Wisconsin</td>\n",
       "      <td>1</td>\n",
       "      <td>23400.0</td>\n",
       "    </tr>\n",
       "    <tr>\n",
       "      <th>4</th>\n",
       "      <td>Frank Stasio</td>\n",
       "      <td>a data analyst</td>\n",
       "      <td>New York</td>\n",
       "      <td>New York</td>\n",
       "      <td>1</td>\n",
       "      <td>30000.0</td>\n",
       "    </tr>\n",
       "  </tbody>\n",
       "</table>\n",
       "</div>"
      ],
      "text/plain": [
       "        contestant                           job          city  \\\n",
       "0  Kristin Lawhead          a multimedia artist    New Orleans   \n",
       "1   Harold Skinner     a teacher and playwright       Columbia   \n",
       "2    Rebekah Lacey   an environmental scientist         Boston   \n",
       "3     Susan Rathke      a residential caregiver        Madison   \n",
       "4     Frank Stasio               a data analyst       New York   \n",
       "\n",
       "              state streak  winnings  \n",
       "0         Louisiana    NaN       NaN  \n",
       "1   South Carolina       1    7700.0  \n",
       "2    Massachusetts       1   20800.0  \n",
       "3        Wisconsin       1   23400.0  \n",
       "4         New York       1   30000.0  "
      ]
     },
     "execution_count": 22,
     "metadata": {},
     "output_type": "execute_result"
    }
   ],
   "source": [
    "rc_df = reg_season[['returning_champion', 'returning_champion_job', 'returning_champion_city', 'returning_champion_state', 'returning_champion_streak', 'returning_champion_winnings']]\n",
    "rc_df.columns = ['contestant', 'job', 'city', 'state', 'streak', 'winnings']\n",
    "rc_df.head()"
   ]
  },
  {
   "cell_type": "code",
   "execution_count": 23,
   "metadata": {},
   "outputs": [
    {
     "data": {
      "text/html": [
       "<div>\n",
       "<style scoped>\n",
       "    .dataframe tbody tr th:only-of-type {\n",
       "        vertical-align: middle;\n",
       "    }\n",
       "\n",
       "    .dataframe tbody tr th {\n",
       "        vertical-align: top;\n",
       "    }\n",
       "\n",
       "    .dataframe thead th {\n",
       "        text-align: right;\n",
       "    }\n",
       "</style>\n",
       "<table border=\"1\" class=\"dataframe\">\n",
       "  <thead>\n",
       "    <tr style=\"text-align: right;\">\n",
       "      <th></th>\n",
       "      <th>contestant</th>\n",
       "      <th>job</th>\n",
       "      <th>city</th>\n",
       "      <th>state</th>\n",
       "      <th>streak</th>\n",
       "      <th>winnings</th>\n",
       "    </tr>\n",
       "  </thead>\n",
       "  <tbody>\n",
       "    <tr>\n",
       "      <th>0</th>\n",
       "      <td>Kristin Lawhead</td>\n",
       "      <td>a multimedia artist</td>\n",
       "      <td>New Orleans</td>\n",
       "      <td>Louisiana</td>\n",
       "      <td>NaN</td>\n",
       "      <td>NaN</td>\n",
       "    </tr>\n",
       "    <tr>\n",
       "      <th>1</th>\n",
       "      <td>Harold Skinner</td>\n",
       "      <td>a teacher and playwright</td>\n",
       "      <td>Columbia</td>\n",
       "      <td>South Carolina</td>\n",
       "      <td>1</td>\n",
       "      <td>7700.0</td>\n",
       "    </tr>\n",
       "    <tr>\n",
       "      <th>2</th>\n",
       "      <td>Rebekah Lacey</td>\n",
       "      <td>an environmental scientist</td>\n",
       "      <td>Boston</td>\n",
       "      <td>Massachusetts</td>\n",
       "      <td>1</td>\n",
       "      <td>20800.0</td>\n",
       "    </tr>\n",
       "    <tr>\n",
       "      <th>3</th>\n",
       "      <td>Susan Rathke</td>\n",
       "      <td>a residential caregiver</td>\n",
       "      <td>Madison</td>\n",
       "      <td>Wisconsin</td>\n",
       "      <td>1</td>\n",
       "      <td>23400.0</td>\n",
       "    </tr>\n",
       "    <tr>\n",
       "      <th>5</th>\n",
       "      <td>Frank Stasio</td>\n",
       "      <td>a data analyst</td>\n",
       "      <td>New York</td>\n",
       "      <td>New York</td>\n",
       "      <td>2</td>\n",
       "      <td>42000.0</td>\n",
       "    </tr>\n",
       "  </tbody>\n",
       "</table>\n",
       "</div>"
      ],
      "text/plain": [
       "        contestant                           job          city  \\\n",
       "0  Kristin Lawhead          a multimedia artist    New Orleans   \n",
       "1   Harold Skinner     a teacher and playwright       Columbia   \n",
       "2    Rebekah Lacey   an environmental scientist         Boston   \n",
       "3     Susan Rathke      a residential caregiver        Madison   \n",
       "5     Frank Stasio               a data analyst       New York   \n",
       "\n",
       "              state streak  winnings  \n",
       "0         Louisiana    NaN       NaN  \n",
       "1   South Carolina       1    7700.0  \n",
       "2    Massachusetts       1   20800.0  \n",
       "3        Wisconsin       1   23400.0  \n",
       "5         New York       2   42000.0  "
      ]
     },
     "execution_count": 23,
     "metadata": {},
     "output_type": "execute_result"
    }
   ],
   "source": [
    "c1_df = c1_df.drop_duplicates(['contestant'], keep='last')\n",
    "c2_df = c2_df.drop_duplicates(['contestant'], keep='last')\n",
    "rc_df = rc_df.drop_duplicates(['contestant'], keep='last')\n",
    "rc_df.head()"
   ]
  },
  {
   "cell_type": "code",
   "execution_count": 50,
   "metadata": {},
   "outputs": [
    {
     "name": "stdout",
     "output_type": "stream",
     "text": [
      "<class 'pandas.core.frame.DataFrame'>\n",
      "Int64Index: 7025 entries, 0 to 4281\n",
      "Data columns (total 7 columns):\n",
      " #   Column         Non-Null Count  Dtype  \n",
      "---  ------         --------------  -----  \n",
      " 0   contestant     7025 non-null   object \n",
      " 1   job            7024 non-null   object \n",
      " 2   city           7004 non-null   object \n",
      " 3   state          6924 non-null   object \n",
      " 4   streak         7025 non-null   int32  \n",
      " 5   winnings       1823 non-null   float64\n",
      " 6   mean_winnings  1823 non-null   float64\n",
      "dtypes: float64(2), int32(1), object(4)\n",
      "memory usage: 411.6+ KB\n"
     ]
    }
   ],
   "source": [
    "contestants = pd.concat([rc_df, c1_df, c2_df], axis=0)\n",
    "contestants = contestants.drop_duplicates(['contestant'], keep='first')\n",
    "contestants['streak'] = contestants['streak'].fillna(0).astype(int)\n",
    "contestants['mean_winnings'] = contestants['winnings']/contestants['streak']\n",
    "contestants['mean_winnings'] = contestants['mean_winnings'].round()\n",
    "contestants.info()"
   ]
  },
  {
   "cell_type": "code",
   "execution_count": 51,
   "metadata": {},
   "outputs": [
    {
     "data": {
      "text/html": [
       "<div>\n",
       "<style scoped>\n",
       "    .dataframe tbody tr th:only-of-type {\n",
       "        vertical-align: middle;\n",
       "    }\n",
       "\n",
       "    .dataframe tbody tr th {\n",
       "        vertical-align: top;\n",
       "    }\n",
       "\n",
       "    .dataframe thead th {\n",
       "        text-align: right;\n",
       "    }\n",
       "</style>\n",
       "<table border=\"1\" class=\"dataframe\">\n",
       "  <thead>\n",
       "    <tr style=\"text-align: right;\">\n",
       "      <th></th>\n",
       "      <th>contestant</th>\n",
       "      <th>job</th>\n",
       "      <th>city</th>\n",
       "      <th>state</th>\n",
       "      <th>streak</th>\n",
       "      <th>winnings</th>\n",
       "      <th>mean_winnings</th>\n",
       "    </tr>\n",
       "  </thead>\n",
       "  <tbody>\n",
       "    <tr>\n",
       "      <th>0</th>\n",
       "      <td>Kristin Lawhead</td>\n",
       "      <td>a multimedia artist</td>\n",
       "      <td>New Orleans</td>\n",
       "      <td>Louisiana</td>\n",
       "      <td>0</td>\n",
       "      <td>NaN</td>\n",
       "      <td>NaN</td>\n",
       "    </tr>\n",
       "    <tr>\n",
       "      <th>1</th>\n",
       "      <td>Harold Skinner</td>\n",
       "      <td>a teacher and playwright</td>\n",
       "      <td>Columbia</td>\n",
       "      <td>South Carolina</td>\n",
       "      <td>1</td>\n",
       "      <td>7700.0</td>\n",
       "      <td>7700.0</td>\n",
       "    </tr>\n",
       "    <tr>\n",
       "      <th>2</th>\n",
       "      <td>Rebekah Lacey</td>\n",
       "      <td>an environmental scientist</td>\n",
       "      <td>Boston</td>\n",
       "      <td>Massachusetts</td>\n",
       "      <td>1</td>\n",
       "      <td>20800.0</td>\n",
       "      <td>20800.0</td>\n",
       "    </tr>\n",
       "    <tr>\n",
       "      <th>3</th>\n",
       "      <td>Susan Rathke</td>\n",
       "      <td>a residential caregiver</td>\n",
       "      <td>Madison</td>\n",
       "      <td>Wisconsin</td>\n",
       "      <td>1</td>\n",
       "      <td>23400.0</td>\n",
       "      <td>23400.0</td>\n",
       "    </tr>\n",
       "    <tr>\n",
       "      <th>5</th>\n",
       "      <td>Frank Stasio</td>\n",
       "      <td>a data analyst</td>\n",
       "      <td>New York</td>\n",
       "      <td>New York</td>\n",
       "      <td>2</td>\n",
       "      <td>42000.0</td>\n",
       "      <td>21000.0</td>\n",
       "    </tr>\n",
       "  </tbody>\n",
       "</table>\n",
       "</div>"
      ],
      "text/plain": [
       "        contestant                           job          city  \\\n",
       "0  Kristin Lawhead          a multimedia artist    New Orleans   \n",
       "1   Harold Skinner     a teacher and playwright       Columbia   \n",
       "2    Rebekah Lacey   an environmental scientist         Boston   \n",
       "3     Susan Rathke      a residential caregiver        Madison   \n",
       "5     Frank Stasio               a data analyst       New York   \n",
       "\n",
       "              state  streak  winnings  mean_winnings  \n",
       "0         Louisiana       0       NaN            NaN  \n",
       "1   South Carolina        1    7700.0         7700.0  \n",
       "2    Massachusetts        1   20800.0        20800.0  \n",
       "3        Wisconsin        1   23400.0        23400.0  \n",
       "5         New York        2   42000.0        21000.0  "
      ]
     },
     "execution_count": 51,
     "metadata": {},
     "output_type": "execute_result"
    }
   ],
   "source": [
    "contestants.head()"
   ]
  },
  {
   "cell_type": "markdown",
   "metadata": {},
   "source": [
    "One minor detail is that the beginning of the dataset has games in which the returning champion could only play in 5 games, so some 'returning champions' like Kristin Lawhead was actually just a new contestant in the returning champion's normal podium."
   ]
  },
  {
   "cell_type": "markdown",
   "metadata": {},
   "source": [
    "### Contestant Analysis"
   ]
  },
  {
   "cell_type": "markdown",
   "metadata": {},
   "source": [
    "We now have a dataset of all contestants on regular season jeopardy from when point values being doubled in 2001 to 2020. One flaw in this data is that we have not added the losing contestant's winnings, so the analysis of winnings only applies to returning champions. Another difficulty in addressing this problem is that Jeopardy used to give vacations as rewards for 2nd and 3rd place contestants, so even if we did impute 2,000 or 1,000 it still technically isn't correct.\n",
    "\n",
    "Let's first take a look at the type of jobs Jeopardy Contestants have:"
   ]
  },
  {
   "cell_type": "code",
   "execution_count": 52,
   "metadata": {},
   "outputs": [
    {
     "data": {
      "text/plain": [
       "an attorney                      247\n",
       "a graduate student               108\n",
       "a writer                          94\n",
       "a stay-at-home mom                73\n",
       "a teacher                         72\n",
       "a librarian                       65\n",
       "a student                         57\n",
       "a law student                     54\n",
       "a lawyer                          52\n",
       "a homemaker                       47\n",
       "an administrative assistant       43\n",
       "a journalist                      42\n",
       "a software engineer               42\n",
       "a project manager                 35\n",
       "an actor                          32\n",
       "a medical student                 30\n",
       "a high school teacher             28\n",
       "a graduate student originally     28\n",
       "an editor                         28\n",
       "a bartender                       26\n",
       "Name: job, dtype: int64"
      ]
     },
     "execution_count": 52,
     "metadata": {},
     "output_type": "execute_result"
    }
   ],
   "source": [
    "contestants['job'].str.strip(' ').value_counts().head(20)"
   ]
  },
  {
   "cell_type": "markdown",
   "metadata": {},
   "source": [
    "Most of these are unsurprising results. Since education is likely highly correlated with trivia knowledge, it makes sense that people who are pursuing or hold an advanced degree could qualify for Jeopardy. Other professions like teachers, librarians, journalists, and software engineers also tend to require a bachelors degree. There's also some job descriptions that are practically identical, like 'a teacher' and 'a high school teacher', and 'a graduate student' and 'a graduate student originally'.\n",
    "\n",
    "Let's look at where the contestants tend to live"
   ]
  },
  {
   "cell_type": "code",
   "execution_count": 53,
   "metadata": {},
   "outputs": [
    {
     "data": {
      "text/plain": [
       "California       1019\n",
       "New York          677\n",
       "Massachusetts     343\n",
       "Illinois          339\n",
       "Virginia          315\n",
       "Pennsylvania      309\n",
       "Texas             276\n",
       "Maryland          243\n",
       "Florida           232\n",
       "New Jersey        216\n",
       "Name: state, dtype: int64"
      ]
     },
     "execution_count": 53,
     "metadata": {},
     "output_type": "execute_result"
    }
   ],
   "source": [
    "contestants['state'].str.strip(' ').value_counts().head(10)"
   ]
  },
  {
   "cell_type": "markdown",
   "metadata": {},
   "source": [
    "Again unsuprising, since these states have a large urban populations of highly educated professionals. California is also where the show is taped, so there might be some slight bias there in contestants being able to attend. "
   ]
  },
  {
   "cell_type": "code",
   "execution_count": 54,
   "metadata": {},
   "outputs": [
    {
     "data": {
      "text/plain": [
       "New York        221\n",
       "Los Angeles     213\n",
       "Washington      199\n",
       "Chicago         157\n",
       "Brooklyn        125\n",
       "Seattle          88\n",
       "Arlington        81\n",
       "San Diego        76\n",
       "Atlanta          69\n",
       "Philadelphia     66\n",
       "Name: city, dtype: int64"
      ]
     },
     "execution_count": 54,
     "metadata": {},
     "output_type": "execute_result"
    }
   ],
   "source": [
    "contestants['city'].str.strip(' ').value_counts().head(10)"
   ]
  },
  {
   "cell_type": "markdown",
   "metadata": {},
   "source": [
    "Similar results as the contestant's state, since cities attract highly educated people."
   ]
  },
  {
   "cell_type": "code",
   "execution_count": 55,
   "metadata": {},
   "outputs": [
    {
     "data": {
      "text/plain": [
       "count    7025.000000\n",
       "mean        0.495231\n",
       "std         1.474541\n",
       "min         0.000000\n",
       "25%         0.000000\n",
       "50%         0.000000\n",
       "75%         1.000000\n",
       "90%         2.000000\n",
       "95%         3.000000\n",
       "99%         5.000000\n",
       "max        74.000000\n",
       "Name: streak, dtype: float64"
      ]
     },
     "execution_count": 55,
     "metadata": {},
     "output_type": "execute_result"
    }
   ],
   "source": [
    "contestants['streak'].describe(percentiles = [.25, .5, .75, .9, .95, .99])"
   ]
  },
  {
   "cell_type": "markdown",
   "metadata": {},
   "source": [
    "What's surprising about the summary statistics of winning streak is how relatively few games the higher percentiles are. Winning 2 games in a row puts you in the top 10% of Jeopardy contestants, and winning 5 puts in in the top 1%. This also shows how impressive Ken Jennings' run of 74 games is. "
   ]
  },
  {
   "cell_type": "code",
   "execution_count": 56,
   "metadata": {},
   "outputs": [
    {
     "data": {
      "text/plain": [
       "0     5202\n",
       "1     1051\n",
       "2      405\n",
       "3      191\n",
       "4       77\n",
       "5       48\n",
       "6       22\n",
       "7       10\n",
       "8        7\n",
       "9        3\n",
       "11       1\n",
       "12       2\n",
       "13       1\n",
       "19       2\n",
       "20       1\n",
       "32       1\n",
       "74       1\n",
       "Name: streak, dtype: int64"
      ]
     },
     "execution_count": 56,
     "metadata": {},
     "output_type": "execute_result"
    }
   ],
   "source": [
    "contestants['streak'].value_counts().sort_index()"
   ]
  },
  {
   "cell_type": "markdown",
   "metadata": {},
   "source": [
    "Unsurprising that the winning streak is monotonically decreasing for streaks less than 10. The following histogram plots this data."
   ]
  },
  {
   "cell_type": "code",
   "execution_count": 71,
   "metadata": {},
   "outputs": [
    {
     "data": {
      "image/png": "[encoded data removed]",
      "text/plain": [
       "<Figure size 720x432 with 1 Axes>"
      ]
     },
     "metadata": {
      "needs_background": "light"
     },
     "output_type": "display_data"
    }
   ],
   "source": [
    "fig, ax = plt.subplots(figsize=(10,6))\n",
    "contestants['streak'].plot.hist(bins=100)\n",
    "plt.title('Histogram of Win Streak', loc = 'left')\n",
    "plt.show()"
   ]
  },
  {
   "cell_type": "code",
   "execution_count": 58,
   "metadata": {},
   "outputs": [
    {
     "data": {
      "text/html": [
       "<div>\n",
       "<style scoped>\n",
       "    .dataframe tbody tr th:only-of-type {\n",
       "        vertical-align: middle;\n",
       "    }\n",
       "\n",
       "    .dataframe tbody tr th {\n",
       "        vertical-align: top;\n",
       "    }\n",
       "\n",
       "    .dataframe thead th {\n",
       "        text-align: right;\n",
       "    }\n",
       "</style>\n",
       "<table border=\"1\" class=\"dataframe\">\n",
       "  <thead>\n",
       "    <tr style=\"text-align: right;\">\n",
       "      <th></th>\n",
       "      <th>contestant</th>\n",
       "      <th>job</th>\n",
       "      <th>city</th>\n",
       "      <th>state</th>\n",
       "      <th>streak</th>\n",
       "      <th>winnings</th>\n",
       "      <th>mean_winnings</th>\n",
       "    </tr>\n",
       "  </thead>\n",
       "  <tbody>\n",
       "    <tr>\n",
       "      <th>688</th>\n",
       "      <td>Ken Jennings</td>\n",
       "      <td>a software engineer</td>\n",
       "      <td>Salt Lake City</td>\n",
       "      <td>Utah</td>\n",
       "      <td>74</td>\n",
       "      <td>2520700.0</td>\n",
       "      <td>34064.0</td>\n",
       "    </tr>\n",
       "    <tr>\n",
       "      <th>4024</th>\n",
       "      <td>James Holzhauer</td>\n",
       "      <td>a professional sports gambler</td>\n",
       "      <td>Las Vegas</td>\n",
       "      <td>Nevada</td>\n",
       "      <td>32</td>\n",
       "      <td>2462216.0</td>\n",
       "      <td>76944.0</td>\n",
       "    </tr>\n",
       "    <tr>\n",
       "      <th>4077</th>\n",
       "      <td>Jason Zuffranieri</td>\n",
       "      <td>a math teacher</td>\n",
       "      <td>Albuquerque</td>\n",
       "      <td>New Mexico</td>\n",
       "      <td>19</td>\n",
       "      <td>532496.0</td>\n",
       "      <td>28026.0</td>\n",
       "    </tr>\n",
       "    <tr>\n",
       "      <th>862</th>\n",
       "      <td>David Madden</td>\n",
       "      <td>a student originally</td>\n",
       "      <td>Ridgewood</td>\n",
       "      <td>New Jersey</td>\n",
       "      <td>19</td>\n",
       "      <td>430400.0</td>\n",
       "      <td>22653.0</td>\n",
       "    </tr>\n",
       "    <tr>\n",
       "      <th>2879</th>\n",
       "      <td>Julia Collins</td>\n",
       "      <td>a supply chain professional</td>\n",
       "      <td>Kenilworth</td>\n",
       "      <td>Illinois</td>\n",
       "      <td>20</td>\n",
       "      <td>428100.0</td>\n",
       "      <td>21405.0</td>\n",
       "    </tr>\n",
       "    <tr>\n",
       "      <th>3176</th>\n",
       "      <td>Matt Jackson</td>\n",
       "      <td>a paralegal</td>\n",
       "      <td>Washington</td>\n",
       "      <td>D.C.</td>\n",
       "      <td>13</td>\n",
       "      <td>411612.0</td>\n",
       "      <td>31662.0</td>\n",
       "    </tr>\n",
       "    <tr>\n",
       "      <th>3637</th>\n",
       "      <td>Austin Rogers</td>\n",
       "      <td>a bartender</td>\n",
       "      <td>New York</td>\n",
       "      <td>New York</td>\n",
       "      <td>12</td>\n",
       "      <td>411000.0</td>\n",
       "      <td>34250.0</td>\n",
       "    </tr>\n",
       "    <tr>\n",
       "      <th>2821</th>\n",
       "      <td>Arthur Chu</td>\n",
       "      <td>a compliance analyst and voiceover artist</td>\n",
       "      <td>Broadview Heights</td>\n",
       "      <td>Ohio</td>\n",
       "      <td>11</td>\n",
       "      <td>297200.0</td>\n",
       "      <td>27018.0</td>\n",
       "    </tr>\n",
       "    <tr>\n",
       "      <th>3401</th>\n",
       "      <td>Seth Wilson</td>\n",
       "      <td>a Ph.D. candidate</td>\n",
       "      <td>Chicago</td>\n",
       "      <td>Illinois</td>\n",
       "      <td>12</td>\n",
       "      <td>265002.0</td>\n",
       "      <td>22084.0</td>\n",
       "    </tr>\n",
       "    <tr>\n",
       "      <th>2081</th>\n",
       "      <td>Tom Nissley</td>\n",
       "      <td>an online books editor</td>\n",
       "      <td>Seattle</td>\n",
       "      <td>Washington</td>\n",
       "      <td>8</td>\n",
       "      <td>235405.0</td>\n",
       "      <td>29426.0</td>\n",
       "    </tr>\n",
       "  </tbody>\n",
       "</table>\n",
       "</div>"
      ],
      "text/plain": [
       "             contestant                                          job  \\\n",
       "688        Ken Jennings                         a software engineer    \n",
       "4024    James Holzhauer               a professional sports gambler    \n",
       "4077  Jason Zuffranieri                              a math teacher    \n",
       "862        David Madden                        a student originally    \n",
       "2879      Julia Collins                 a supply chain professional    \n",
       "3176       Matt Jackson                                 a paralegal    \n",
       "3637      Austin Rogers                                 a bartender    \n",
       "2821         Arthur Chu   a compliance analyst and voiceover artist    \n",
       "3401        Seth Wilson                           a Ph.D. candidate    \n",
       "2081        Tom Nissley                      an online books editor    \n",
       "\n",
       "                    city         state  streak   winnings  mean_winnings  \n",
       "688       Salt Lake City         Utah       74  2520700.0        34064.0  \n",
       "4024           Las Vegas       Nevada       32  2462216.0        76944.0  \n",
       "4077         Albuquerque   New Mexico       19   532496.0        28026.0  \n",
       "862            Ridgewood   New Jersey       19   430400.0        22653.0  \n",
       "2879          Kenilworth     Illinois       20   428100.0        21405.0  \n",
       "3176          Washington         D.C.       13   411612.0        31662.0  \n",
       "3637            New York     New York       12   411000.0        34250.0  \n",
       "2821   Broadview Heights         Ohio       11   297200.0        27018.0  \n",
       "3401             Chicago     Illinois       12   265002.0        22084.0  \n",
       "2081             Seattle   Washington        8   235405.0        29426.0  "
      ]
     },
     "execution_count": 58,
     "metadata": {},
     "output_type": "execute_result"
    }
   ],
   "source": [
    "contestants.sort_values('winnings', ascending=False).head(10)"
   ]
  },
  {
   "cell_type": "code",
   "execution_count": 59,
   "metadata": {},
   "outputs": [
    {
     "data": {
      "text/plain": [
       "count    1.823000e+03\n",
       "mean     3.961349e+04\n",
       "std      8.991427e+04\n",
       "min      0.000000e+00\n",
       "10%      1.030460e+04\n",
       "25%      1.665050e+04\n",
       "50%      2.579900e+04\n",
       "75%      4.419950e+04\n",
       "90%      7.268100e+04\n",
       "max      2.520700e+06\n",
       "Name: winnings, dtype: float64"
      ]
     },
     "execution_count": 59,
     "metadata": {},
     "output_type": "execute_result"
    }
   ],
   "source": [
    "contestants['winnings'].describe(percentiles = [.1, .25, .5, .75, .9])"
   ]
  },
  {
   "cell_type": "markdown",
   "metadata": {},
   "source": [
    "The mean is way higher than I would've guessed, but it makes sense given the extreme outliers of Ken Jennings and James Holzhauer. The median is a much more reasonable \\$25,800. "
   ]
  },
  {
   "cell_type": "code",
   "execution_count": 60,
   "metadata": {},
   "outputs": [
    {
     "data": {
      "image/png": "[encoded data removed]",
      "text/plain": [
       "<Figure size 720x432 with 1 Axes>"
      ]
     },
     "metadata": {
      "needs_background": "light"
     },
     "output_type": "display_data"
    }
   ],
   "source": [
    "fig, ax = plt.subplots(figsize=(10,6))\n",
    "contestants['winnings'].plot.hist(bins = 100)\n",
    "plt.title('Histogram of Winnings', loc = 'left')\n",
    "plt.show()"
   ]
  },
  {
   "cell_type": "markdown",
   "metadata": {},
   "source": [
    "This histogram is borderline unusable because of the Ken and James. Let's make a copy of the dataframe without those contestants and see how things differ."
   ]
  },
  {
   "cell_type": "code",
   "execution_count": 61,
   "metadata": {},
   "outputs": [
    {
     "data": {
      "text/plain": [
       "count      1821.000000\n",
       "mean      36920.633718\n",
       "std       38460.050709\n",
       "min           0.000000\n",
       "25%       16601.000000\n",
       "50%       25706.000000\n",
       "75%       44100.000000\n",
       "max      532496.000000\n",
       "Name: winnings, dtype: float64"
      ]
     },
     "execution_count": 61,
     "metadata": {},
     "output_type": "execute_result"
    }
   ],
   "source": [
    "contestants_no_KJ_no_JH = contestants[(contestants['contestant'] != \"Ken Jennings\") & (contestants['contestant'] != \"James Holzhauer\")]\n",
    "contestants_no_KJ_no_JH['winnings'].describe()"
   ]
  },
  {
   "cell_type": "markdown",
   "metadata": {},
   "source": [
    "We find that Jennings and Holzhauer bump the mean earnings of returning champions by about 2,700, from 36,920 to 39,610. Most shocking is the standard deviation without these contestants also drops from 89,900 to 38,460.  "
   ]
  },
  {
   "cell_type": "code",
   "execution_count": 62,
   "metadata": {},
   "outputs": [
    {
     "data": {
      "image/png": "[encoded data removed]",
      "text/plain": [
       "<Figure size 720x432 with 1 Axes>"
      ]
     },
     "metadata": {
      "needs_background": "light"
     },
     "output_type": "display_data"
    }
   ],
   "source": [
    "fig, ax = plt.subplots(figsize=(10,6))\n",
    "contestants_no_KJ_no_JH['winnings'].plot.hist(bins=100)\n",
    "plt.title('Histogram of Winnings (Excluding Jennings and Holzhauer)', loc = 'left')\n",
    "plt.show()"
   ]
  },
  {
   "cell_type": "code",
   "execution_count": 74,
   "metadata": {},
   "outputs": [
    {
     "data": {
      "image/png": "[encoded data removed]",
      "text/plain": [
       "<Figure size 720x432 with 1 Axes>"
      ]
     },
     "metadata": {
      "needs_background": "light"
     },
     "output_type": "display_data"
    }
   ],
   "source": [
    "fig, ax = plt.subplots(figsize=(10,6))\n",
    "contestants_no_KJ_no_JH['streak'].value_counts().plot.bar()\n",
    "plt.title('Win Streak (Excluding Jennings and Holzhauer)', loc = 'left')\n",
    "plt.show()"
   ]
  },
  {
   "cell_type": "code",
   "execution_count": 75,
   "metadata": {},
   "outputs": [
    {
     "data": {
      "text/plain": [
       "count     1823.000000\n",
       "mean     19181.560614\n",
       "std       7441.567835\n",
       "min          0.000000\n",
       "25%      14100.000000\n",
       "50%      19200.000000\n",
       "75%      24001.000000\n",
       "max      76944.000000\n",
       "Name: mean_winnings, dtype: float64"
      ]
     },
     "execution_count": 75,
     "metadata": {},
     "output_type": "execute_result"
    }
   ],
   "source": [
    "contestants['mean_winnings'].describe()"
   ]
  },
  {
   "cell_type": "code",
   "execution_count": 76,
   "metadata": {},
   "outputs": [
    {
     "data": {
      "image/png": "[encoded data removed]",
      "text/plain": [
       "<Figure size 720x432 with 1 Axes>"
      ]
     },
     "metadata": {
      "needs_background": "light"
     },
     "output_type": "display_data"
    }
   ],
   "source": [
    "fig, ax = plt.subplots(figsize=(10,6))\n",
    "contestants['mean_winnings'].plot.hist(bins=100)\n",
    "plt.title('Histogram of Mean Winnings', loc = 'left')\n",
    "plt.show()"
   ]
  },
  {
   "cell_type": "markdown",
   "metadata": {},
   "source": [
    "This histogram also puts into perspective how impressive Holzhauer's run on Jeopardy was, since his mean winnings per game is way past all other returning champions"
   ]
  },
  {
   "cell_type": "markdown",
   "metadata": {},
   "source": [
    "Let's use the Gini Coefficient to analyze the winnings inequality among returning champions. "
   ]
  },
  {
   "cell_type": "code",
   "execution_count": 27,
   "metadata": {},
   "outputs": [],
   "source": [
    "def gini(x):\n",
    "    n = len(x)\n",
    "    i = np.arange(1, 1+n)\n",
    "    numerator = np.sum((2*i - n-1) * x)\n",
    "    denominator = np.sum(x * n)\n",
    "    return round(100*numerator/denominator, 1)"
   ]
  },
  {
   "cell_type": "code",
   "execution_count": 28,
   "metadata": {},
   "outputs": [
    {
     "data": {
      "text/plain": [
       "46.9"
      ]
     },
     "execution_count": 28,
     "metadata": {},
     "output_type": "execute_result"
    }
   ],
   "source": [
    "ordered_winnings = np.array(contestants['winnings'].dropna().sort_values())\n",
    "gini(ordered_winnings)"
   ]
  },
  {
   "cell_type": "code",
   "execution_count": 29,
   "metadata": {},
   "outputs": [
    {
     "data": {
      "text/plain": [
       "43.1"
      ]
     },
     "execution_count": 29,
     "metadata": {},
     "output_type": "execute_result"
    }
   ],
   "source": [
    "ordered_winnings_no_KJ_no_JH = np.array(contestants_no_KJ_no_JH['winnings'].dropna().sort_values())\n",
    "gini(ordered_winnings_no_KJ_no_JH)"
   ]
  }
 ],
 "metadata": {
  "kernelspec": {
   "display_name": "Python 3",
   "language": "python",
   "name": "python3"
  },
  "language_info": {
   "codemirror_mode": {
    "name": "ipython",
    "version": 3
   },
   "file_extension": ".py",
   "mimetype": "text/x-python",
   "name": "python",
   "nbconvert_exporter": "python",
   "pygments_lexer": "ipython3",
   "version": "3.8.5"
  }
 },
 "nbformat": 4,
 "nbformat_minor": 4
}
