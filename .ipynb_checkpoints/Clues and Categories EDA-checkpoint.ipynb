{
 "cells": [
  {
   "cell_type": "markdown",
   "metadata": {},
   "source": [
    "Clues and Categories EDA"
   ]
  },
  {
   "cell_type": "code",
   "execution_count": 1,
   "metadata": {},
   "outputs": [],
   "source": [
    "import os\n",
    "import json\n",
    "import pandas as pd\n",
    "import re\n",
    "import numpy as np\n",
    "pd.options.display.max_colwidth = 125\n",
    "pd.options.display.max_rows = 100\n",
    "os.chdir('C:\\\\Users\\\\mhous\\\\scrap\\\\JeopardyProject')"
   ]
  },
  {
   "cell_type": "code",
   "execution_count": 2,
   "metadata": {},
   "outputs": [
    {
     "data": {
      "text/html": [
       "<div>\n",
       "<style scoped>\n",
       "    .dataframe tbody tr th:only-of-type {\n",
       "        vertical-align: middle;\n",
       "    }\n",
       "\n",
       "    .dataframe tbody tr th {\n",
       "        vertical-align: top;\n",
       "    }\n",
       "\n",
       "    .dataframe thead th {\n",
       "        text-align: right;\n",
       "    }\n",
       "</style>\n",
       "<table border=\"1\" class=\"dataframe\">\n",
       "  <thead>\n",
       "    <tr style=\"text-align: right;\">\n",
       "      <th></th>\n",
       "      <th>game_id</th>\n",
       "      <th>show_number</th>\n",
       "      <th>date</th>\n",
       "      <th>value</th>\n",
       "      <th>round</th>\n",
       "      <th>category</th>\n",
       "      <th>column</th>\n",
       "      <th>row</th>\n",
       "      <th>order_number</th>\n",
       "      <th>clue</th>\n",
       "      <th>correct_response</th>\n",
       "      <th>correct</th>\n",
       "      <th>incorrect</th>\n",
       "      <th>n_correct</th>\n",
       "      <th>n_incorrect</th>\n",
       "      <th>n_didnt_know</th>\n",
       "    </tr>\n",
       "  </thead>\n",
       "  <tbody>\n",
       "    <tr>\n",
       "      <th>0</th>\n",
       "      <td>Show #7943 - Wednesday, March 6, 2019</td>\n",
       "      <td>7943</td>\n",
       "      <td>2019-03-06</td>\n",
       "      <td>$200</td>\n",
       "      <td>J</td>\n",
       "      <td>HISTORIC STRUCTURES</td>\n",
       "      <td>1.0</td>\n",
       "      <td>1.0</td>\n",
       "      <td>8</td>\n",
       "      <td>In an effort to preserve this 800-year-old Italian structure, really heavy counterweights were installed</td>\n",
       "      <td>the Leaning Tower of Pisa</td>\n",
       "      <td>Tim</td>\n",
       "      <td>NaN</td>\n",
       "      <td>1</td>\n",
       "      <td>0</td>\n",
       "      <td>0</td>\n",
       "    </tr>\n",
       "    <tr>\n",
       "      <th>1</th>\n",
       "      <td>Show #7943 - Wednesday, March 6, 2019</td>\n",
       "      <td>7943</td>\n",
       "      <td>2019-03-06</td>\n",
       "      <td>$400</td>\n",
       "      <td>J</td>\n",
       "      <td>HISTORIC STRUCTURES</td>\n",
       "      <td>1.0</td>\n",
       "      <td>2.0</td>\n",
       "      <td>9</td>\n",
       "      <td>Before billeting the RAF in World War II, Blickling Estate was the birthplace of this second wife of Henry VIII</td>\n",
       "      <td>Anne Boleyn</td>\n",
       "      <td>Eric</td>\n",
       "      <td>NaN</td>\n",
       "      <td>1</td>\n",
       "      <td>0</td>\n",
       "      <td>0</td>\n",
       "    </tr>\n",
       "    <tr>\n",
       "      <th>2</th>\n",
       "      <td>Show #7943 - Wednesday, March 6, 2019</td>\n",
       "      <td>7943</td>\n",
       "      <td>2019-03-06</td>\n",
       "      <td>$600</td>\n",
       "      <td>J</td>\n",
       "      <td>HISTORIC STRUCTURES</td>\n",
       "      <td>1.0</td>\n",
       "      <td>3.0</td>\n",
       "      <td>10</td>\n",
       "      <td>Later famous as a rock concert venue, Tokyo's Nippon Budokan Hall was built to host this martial art at the 1964 Olympics</td>\n",
       "      <td>judo</td>\n",
       "      <td>Tim</td>\n",
       "      <td>NaN</td>\n",
       "      <td>1</td>\n",
       "      <td>0</td>\n",
       "      <td>0</td>\n",
       "    </tr>\n",
       "    <tr>\n",
       "      <th>3</th>\n",
       "      <td>Show #7943 - Wednesday, March 6, 2019</td>\n",
       "      <td>7943</td>\n",
       "      <td>2019-03-06</td>\n",
       "      <td>$800</td>\n",
       "      <td>J</td>\n",
       "      <td>HISTORIC STRUCTURES</td>\n",
       "      <td>1.0</td>\n",
       "      <td>4.0</td>\n",
       "      <td>11</td>\n",
       "      <td>\"Scholars\" know the Knights Hospitaller had a palace for the grand master on this large Greek island</td>\n",
       "      <td>Rhodes</td>\n",
       "      <td>NaN</td>\n",
       "      <td>Dana, Tim, Triple Stumper</td>\n",
       "      <td>0</td>\n",
       "      <td>2</td>\n",
       "      <td>3</td>\n",
       "    </tr>\n",
       "    <tr>\n",
       "      <th>4</th>\n",
       "      <td>Show #7943 - Wednesday, March 6, 2019</td>\n",
       "      <td>7943</td>\n",
       "      <td>2019-03-06</td>\n",
       "      <td>$1000</td>\n",
       "      <td>J</td>\n",
       "      <td>HISTORIC STRUCTURES</td>\n",
       "      <td>1.0</td>\n",
       "      <td>5.0</td>\n",
       "      <td>12</td>\n",
       "      <td>Herod built this Israel mountain fortress; later the Romans had trouble taking it from the Zealots</td>\n",
       "      <td>Masada</td>\n",
       "      <td>Dana</td>\n",
       "      <td>NaN</td>\n",
       "      <td>1</td>\n",
       "      <td>0</td>\n",
       "      <td>0</td>\n",
       "    </tr>\n",
       "  </tbody>\n",
       "</table>\n",
       "</div>"
      ],
      "text/plain": [
       "                                 game_id  show_number        date  value  \\\n",
       "0  Show #7943 - Wednesday, March 6, 2019         7943  2019-03-06   $200   \n",
       "1  Show #7943 - Wednesday, March 6, 2019         7943  2019-03-06   $400   \n",
       "2  Show #7943 - Wednesday, March 6, 2019         7943  2019-03-06   $600   \n",
       "3  Show #7943 - Wednesday, March 6, 2019         7943  2019-03-06   $800   \n",
       "4  Show #7943 - Wednesday, March 6, 2019         7943  2019-03-06  $1000   \n",
       "\n",
       "  round             category  column  row order_number  \\\n",
       "0     J  HISTORIC STRUCTURES     1.0  1.0            8   \n",
       "1     J  HISTORIC STRUCTURES     1.0  2.0            9   \n",
       "2     J  HISTORIC STRUCTURES     1.0  3.0           10   \n",
       "3     J  HISTORIC STRUCTURES     1.0  4.0           11   \n",
       "4     J  HISTORIC STRUCTURES     1.0  5.0           12   \n",
       "\n",
       "                                                                                                                        clue  \\\n",
       "0                   In an effort to preserve this 800-year-old Italian structure, really heavy counterweights were installed   \n",
       "1            Before billeting the RAF in World War II, Blickling Estate was the birthplace of this second wife of Henry VIII   \n",
       "2  Later famous as a rock concert venue, Tokyo's Nippon Budokan Hall was built to host this martial art at the 1964 Olympics   \n",
       "3                       \"Scholars\" know the Knights Hospitaller had a palace for the grand master on this large Greek island   \n",
       "4                         Herod built this Israel mountain fortress; later the Romans had trouble taking it from the Zealots   \n",
       "\n",
       "            correct_response correct                  incorrect  n_correct  \\\n",
       "0  the Leaning Tower of Pisa     Tim                        NaN          1   \n",
       "1                Anne Boleyn    Eric                        NaN          1   \n",
       "2                       judo     Tim                        NaN          1   \n",
       "3                     Rhodes     NaN  Dana, Tim, Triple Stumper          0   \n",
       "4                     Masada    Dana                        NaN          1   \n",
       "\n",
       "   n_incorrect  n_didnt_know  \n",
       "0            0             0  \n",
       "1            0             0  \n",
       "2            0             0  \n",
       "3            2             3  \n",
       "4            0             0  "
      ]
     },
     "execution_count": 2,
     "metadata": {},
     "output_type": "execute_result"
    }
   ],
   "source": [
    "df = pd.read_csv('clues.csv')\n",
    "\n",
    "df.head(5)"
   ]
  },
  {
   "cell_type": "code",
   "execution_count": 3,
   "metadata": {},
   "outputs": [
    {
     "data": {
      "text/plain": [
       "count      255261\n",
       "unique      94646\n",
       "top       Chicago\n",
       "freq          238\n",
       "Name: correct_response, dtype: object"
      ]
     },
     "execution_count": 3,
     "metadata": {},
     "output_type": "execute_result"
    }
   ],
   "source": [
    "df['correct_response'].describe()"
   ]
  },
  {
   "cell_type": "code",
   "execution_count": 4,
   "metadata": {},
   "outputs": [
    {
     "data": {
      "text/html": [
       "<div>\n",
       "<style scoped>\n",
       "    .dataframe tbody tr th:only-of-type {\n",
       "        vertical-align: middle;\n",
       "    }\n",
       "\n",
       "    .dataframe tbody tr th {\n",
       "        vertical-align: top;\n",
       "    }\n",
       "\n",
       "    .dataframe thead th {\n",
       "        text-align: right;\n",
       "    }\n",
       "</style>\n",
       "<table border=\"1\" class=\"dataframe\">\n",
       "  <thead>\n",
       "    <tr style=\"text-align: right;\">\n",
       "      <th></th>\n",
       "      <th>game_id</th>\n",
       "      <th>show_number</th>\n",
       "      <th>date</th>\n",
       "      <th>value</th>\n",
       "      <th>round</th>\n",
       "      <th>category</th>\n",
       "      <th>column</th>\n",
       "      <th>row</th>\n",
       "      <th>order_number</th>\n",
       "      <th>clue</th>\n",
       "      <th>correct_response</th>\n",
       "      <th>correct</th>\n",
       "      <th>incorrect</th>\n",
       "      <th>n_correct</th>\n",
       "      <th>n_incorrect</th>\n",
       "      <th>n_didnt_know</th>\n",
       "    </tr>\n",
       "  </thead>\n",
       "  <tbody>\n",
       "    <tr>\n",
       "      <th>19791</th>\n",
       "      <td>Show #4346 - Monday, June 23, 2003</td>\n",
       "      <td>4346</td>\n",
       "      <td>2003-06-23</td>\n",
       "      <td>$200</td>\n",
       "      <td>J</td>\n",
       "      <td>GOING \"N\"SANE</td>\n",
       "      <td>6.0</td>\n",
       "      <td>1.0</td>\n",
       "      <td>1</td>\n",
       "      <td>It often precedes \"and void\"</td>\n",
       "      <td>NaN</td>\n",
       "      <td>Peter</td>\n",
       "      <td>NaN</td>\n",
       "      <td>1</td>\n",
       "      <td>0</td>\n",
       "      <td>0</td>\n",
       "    </tr>\n",
       "    <tr>\n",
       "      <th>26922</th>\n",
       "      <td>Show #6177 - Tuesday, June 21, 2011</td>\n",
       "      <td>6177</td>\n",
       "      <td>2011-06-21</td>\n",
       "      <td>$400</td>\n",
       "      <td>DJ</td>\n",
       "      <td>NOTHING</td>\n",
       "      <td>6.0</td>\n",
       "      <td>1.0</td>\n",
       "      <td>30</td>\n",
       "      <td>This word for \"nothing\" precedes \"and void\" to mean \"not valid\"</td>\n",
       "      <td>NaN</td>\n",
       "      <td>Julianna</td>\n",
       "      <td>NaN</td>\n",
       "      <td>1</td>\n",
       "      <td>0</td>\n",
       "      <td>0</td>\n",
       "    </tr>\n",
       "  </tbody>\n",
       "</table>\n",
       "</div>"
      ],
      "text/plain": [
       "                                   game_id  show_number        date value  \\\n",
       "19791   Show #4346 - Monday, June 23, 2003         4346  2003-06-23  $200   \n",
       "26922  Show #6177 - Tuesday, June 21, 2011         6177  2011-06-21  $400   \n",
       "\n",
       "      round       category  column  row order_number  \\\n",
       "19791     J  GOING \"N\"SANE     6.0  1.0            1   \n",
       "26922    DJ        NOTHING     6.0  1.0           30   \n",
       "\n",
       "                                                                  clue  \\\n",
       "19791                                     It often precedes \"and void\"   \n",
       "26922  This word for \"nothing\" precedes \"and void\" to mean \"not valid\"   \n",
       "\n",
       "      correct_response   correct incorrect  n_correct  n_incorrect  \\\n",
       "19791              NaN     Peter       NaN          1            0   \n",
       "26922              NaN  Julianna       NaN          1            0   \n",
       "\n",
       "       n_didnt_know  \n",
       "19791             0  \n",
       "26922             0  "
      ]
     },
     "execution_count": 4,
     "metadata": {},
     "output_type": "execute_result"
    }
   ],
   "source": [
    "df.loc[df['correct_response'].isnull()]"
   ]
  },
  {
   "cell_type": "code",
   "execution_count": 5,
   "metadata": {},
   "outputs": [],
   "source": [
    "df.loc[df['correct_response'].isnull(), 'correct_response'] = 'Null'"
   ]
  },
  {
   "cell_type": "code",
   "execution_count": 6,
   "metadata": {},
   "outputs": [
    {
     "data": {
      "text/plain": [
       "count      255263\n",
       "unique      94647\n",
       "top       Chicago\n",
       "freq          238\n",
       "Name: correct_response, dtype: object"
      ]
     },
     "execution_count": 6,
     "metadata": {},
     "output_type": "execute_result"
    }
   ],
   "source": [
    "df['correct_response'].describe()"
   ]
  },
  {
   "cell_type": "markdown",
   "metadata": {},
   "source": [
    "There are 255,263 correct responses, of which only 94,647 are unique. "
   ]
  },
  {
   "cell_type": "code",
   "execution_count": 7,
   "metadata": {},
   "outputs": [
    {
     "data": {
      "text/plain": [
       "<matplotlib.axes._subplots.AxesSubplot at 0x127ac2c7490>"
      ]
     },
     "execution_count": 7,
     "metadata": {},
     "output_type": "execute_result"
    },
    {
     "data": {
      "image/png": "[encoded data removed]",
      "text/plain": [
       "<Figure size 432x288 with 1 Axes>"
      ]
     },
     "metadata": {
      "needs_background": "light"
     },
     "output_type": "display_data"
    }
   ],
   "source": [
    "df['correct_response'].value_counts().plot.hist(bins=200)"
   ]
  },
  {
   "cell_type": "markdown",
   "metadata": {},
   "source": [
    "We can also see that the vast majority of responses have only showed up once."
   ]
  },
  {
   "cell_type": "code",
   "execution_count": 8,
   "metadata": {},
   "outputs": [
    {
     "data": {
      "text/plain": [
       "1     58589\n",
       "2     14289\n",
       "3      6800\n",
       "4      3860\n",
       "5      2463\n",
       "6      1614\n",
       "7      1209\n",
       "8       871\n",
       "9       660\n",
       "10      570\n",
       "Name: correct_response, dtype: int64"
      ]
     },
     "execution_count": 8,
     "metadata": {},
     "output_type": "execute_result"
    }
   ],
   "source": [
    "df['correct_response'].value_counts().value_counts().head(10)"
   ]
  },
  {
   "cell_type": "code",
   "execution_count": 9,
   "metadata": {},
   "outputs": [
    {
     "data": {
      "text/plain": [
       "Chicago          238\n",
       "China            210\n",
       "Australia        209\n",
       "India            187\n",
       "California       184\n",
       "Canada           182\n",
       "France           177\n",
       "Japan            173\n",
       "Russia           159\n",
       "Spain            159\n",
       "Alaska           159\n",
       "Florida          158\n",
       "Mexico           157\n",
       "Brazil           154\n",
       "Texas            152\n",
       "New York         151\n",
       "Italy            145\n",
       "Paris            135\n",
       "South Africa     133\n",
       "Germany          132\n",
       "Ireland          130\n",
       "London           128\n",
       "Sweden           127\n",
       "Hawaii           127\n",
       "San Francisco    125\n",
       "Name: correct_response, dtype: int64"
      ]
     },
     "execution_count": 9,
     "metadata": {},
     "output_type": "execute_result"
    }
   ],
   "source": [
    "df['correct_response'].value_counts().head(25)"
   ]
  },
  {
   "cell_type": "markdown",
   "metadata": {},
   "source": [
    "The 25 most common responses are all geographic locations. "
   ]
  },
  {
   "cell_type": "code",
   "execution_count": 10,
   "metadata": {},
   "outputs": [
    {
     "data": {
      "text/plain": [
       "Chicago               238\n",
       "China                 210\n",
       "Australia             209\n",
       "India                 187\n",
       "California            184\n",
       "                     ... \n",
       "the Hoover Dam         10\n",
       "Scarlett Johansson     10\n",
       "Roger Bannister        10\n",
       "mousse                 10\n",
       "Sing Sing              10\n",
       "Name: correct_response, Length: 4292, dtype: int64"
      ]
     },
     "execution_count": 10,
     "metadata": {},
     "output_type": "execute_result"
    }
   ],
   "source": [
    "df['correct_response'].value_counts()[df['correct_response'].value_counts() >= 10]"
   ]
  },
  {
   "cell_type": "markdown",
   "metadata": {},
   "source": [
    "There are 3,881 responses that have shown up at least 10 times"
   ]
  },
  {
   "cell_type": "markdown",
   "metadata": {},
   "source": [
    "One problem in data collection is how the Jeopardy judges accept answers. For example, if the English poet \"Alfred Lord Tennyson\" is the correct response, the judges would still accept \"Tennyson\" or \"Lord Tennyson.\""
   ]
  },
  {
   "cell_type": "code",
   "execution_count": 11,
   "metadata": {},
   "outputs": [
    {
     "name": "stdout",
     "output_type": "stream",
     "text": [
      "Number of correct responses:\n",
      "Alfred Lord Tennyson:6\n",
      "Lord Tennyson:2\n",
      "Tennyson:23\n",
      "Ends with 'Tennyson':40\n"
     ]
    },
    {
     "name": "stderr",
     "output_type": "stream",
     "text": [
      "C:\\Users\\mhous\\anaconda3\\lib\\site-packages\\pandas\\core\\strings.py:1954: UserWarning: This pattern has match groups. To actually get the groups, use str.extract.\n",
      "  return func(self, *args, **kwargs)\n"
     ]
    }
   ],
   "source": [
    "print(\"Number of correct responses:\")\n",
    "print(\"Alfred Lord Tennyson:\" + str( len(df[df['correct_response'] == \"Alfred Lord Tennyson\"])))\n",
    "print(\"Lord Tennyson:\" + str(len( df[df['correct_response'] == \"Lord Tennyson\"])))\n",
    "print(\"Tennyson:\" + str(len( df[df['correct_response'] == \"Tennyson\"])))\n",
    "print(\"Ends with 'Tennyson':\" + str( df['correct_response'].str.contains(r'(Tennyson$)').value_counts()[1]))"
   ]
  },
  {
   "cell_type": "markdown",
   "metadata": {},
   "source": [
    "The problem is that since there are multiple ways to correctly answer \"Tennyson\", there will be multiple ways to record the data, since the archive will record what the contestant says. While it could be possible to \"fix\" all instances of Tennyson, there is no easy way to do so for every correct response that is a person. As another example, let's look at George Washington."
   ]
  },
  {
   "cell_type": "code",
   "execution_count": 12,
   "metadata": {},
   "outputs": [
    {
     "name": "stdout",
     "output_type": "stream",
     "text": [
      "Number of correct responses:\n",
      "Washington:116\n",
      "George Washington:71\n"
     ]
    }
   ],
   "source": [
    "print(\"Number of correct responses:\")\n",
    "print(\"Washington:\" + str( len(df[df['correct_response'] == \"Washington\"])))\n",
    "print(\"George Washington:\" + str( len(df[df['correct_response'] == \"George Washington\"])))"
   ]
  },
  {
   "cell_type": "markdown",
   "metadata": {},
   "source": [
    "There are 53 occurances of \"George Washington\" as the correct answer, and 110 of \"Washington.\" However, when we look closer at the correct response \"Washington\", we see some refer to George Washington, and other to the state of Washington. Being able to automatically differentiate this is no simple task. "
   ]
  },
  {
   "cell_type": "code",
   "execution_count": 13,
   "metadata": {},
   "outputs": [
    {
     "data": {
      "text/plain": [
       "game_id                                                                              Show #4306 - Monday, April 28, 2003\n",
       "show_number                                                                                                         4306\n",
       "date                                                                                                          2003-04-28\n",
       "value                                                                                                               $800\n",
       "round                                                                                                                 DJ\n",
       "category                                                                                              STATE: THE OBVIOUS\n",
       "column                                                                                                                 5\n",
       "row                                                                                                                    2\n",
       "order_number                                                                                                          15\n",
       "clue                Florida's in the southeast corner of the 48 contiguous states; this state is in the northwest corner\n",
       "correct_response                                                                                              Washington\n",
       "correct                                                                                                            Julie\n",
       "incorrect                                                                                                            NaN\n",
       "n_correct                                                                                                              1\n",
       "n_incorrect                                                                                                            0\n",
       "n_didnt_know                                                                                                           0\n",
       "Name: 7708, dtype: object"
      ]
     },
     "execution_count": 13,
     "metadata": {},
     "output_type": "execute_result"
    }
   ],
   "source": [
    "df[df['correct_response'] == \"Washington\"].iloc[5]"
   ]
  },
  {
   "cell_type": "code",
   "execution_count": 14,
   "metadata": {},
   "outputs": [
    {
     "data": {
      "text/plain": [
       "game_id                                                                                Show #7980 - Friday, April 26, 2019\n",
       "show_number                                                                                                           7980\n",
       "date                                                                                                            2019-04-26\n",
       "value                                                                                                                 $400\n",
       "round                                                                                                                   DJ\n",
       "category                                                                                             OUT-OF-OFFICE E-MAILS\n",
       "column                                                                                                                   4\n",
       "row                                                                                                                      1\n",
       "order_number                                                                                                            26\n",
       "clue                From him in 1797: \"Out of office as a third term wasn't for me. Also have several dental appointments\"\n",
       "correct_response                                                                                                Washington\n",
       "correct                                                                                                              Tyler\n",
       "incorrect                                                                                                              NaN\n",
       "n_correct                                                                                                                1\n",
       "n_incorrect                                                                                                              0\n",
       "n_didnt_know                                                                                                             0\n",
       "Name: 11266, dtype: object"
      ]
     },
     "execution_count": 14,
     "metadata": {},
     "output_type": "execute_result"
    }
   ],
   "source": [
    "df[df['correct_response'] == \"Washington\"].iloc[6]"
   ]
  },
  {
   "cell_type": "markdown",
   "metadata": {},
   "source": [
    "Since each category in a game shows up to 5 times, it is simpler to just import the categories csv"
   ]
  },
  {
   "cell_type": "code",
   "execution_count": 15,
   "metadata": {},
   "outputs": [],
   "source": [
    "categories = pd.read_csv('categories.csv')"
   ]
  },
  {
   "cell_type": "code",
   "execution_count": 16,
   "metadata": {},
   "outputs": [
    {
     "data": {
      "text/html": [
       "<div>\n",
       "<style scoped>\n",
       "    .dataframe tbody tr th:only-of-type {\n",
       "        vertical-align: middle;\n",
       "    }\n",
       "\n",
       "    .dataframe tbody tr th {\n",
       "        vertical-align: top;\n",
       "    }\n",
       "\n",
       "    .dataframe thead th {\n",
       "        text-align: right;\n",
       "    }\n",
       "</style>\n",
       "<table border=\"1\" class=\"dataframe\">\n",
       "  <thead>\n",
       "    <tr style=\"text-align: right;\">\n",
       "      <th></th>\n",
       "      <th>show_number</th>\n",
       "      <th>category</th>\n",
       "      <th>round</th>\n",
       "      <th>column</th>\n",
       "    </tr>\n",
       "  </thead>\n",
       "  <tbody>\n",
       "    <tr>\n",
       "      <th>0</th>\n",
       "      <td>7943</td>\n",
       "      <td>HISTORIC STRUCTURES</td>\n",
       "      <td>J</td>\n",
       "      <td>1.0</td>\n",
       "    </tr>\n",
       "    <tr>\n",
       "      <th>1</th>\n",
       "      <td>6089</td>\n",
       "      <td>THE 50 STATES</td>\n",
       "      <td>J</td>\n",
       "      <td>1.0</td>\n",
       "    </tr>\n",
       "    <tr>\n",
       "      <th>2</th>\n",
       "      <td>4281</td>\n",
       "      <td>SCIENCE &amp; NATURE</td>\n",
       "      <td>J</td>\n",
       "      <td>1.0</td>\n",
       "    </tr>\n",
       "    <tr>\n",
       "      <th>3</th>\n",
       "      <td>4089</td>\n",
       "      <td>THE PRICE IS</td>\n",
       "      <td>J</td>\n",
       "      <td>1.0</td>\n",
       "    </tr>\n",
       "    <tr>\n",
       "      <th>4</th>\n",
       "      <td>3966</td>\n",
       "      <td>SUDDENLY SUDAN</td>\n",
       "      <td>J</td>\n",
       "      <td>1.0</td>\n",
       "    </tr>\n",
       "  </tbody>\n",
       "</table>\n",
       "</div>"
      ],
      "text/plain": [
       "   show_number             category round  column\n",
       "0         7943  HISTORIC STRUCTURES     J     1.0\n",
       "1         6089        THE 50 STATES     J     1.0\n",
       "2         4281     SCIENCE & NATURE     J     1.0\n",
       "3         4089         THE PRICE IS     J     1.0\n",
       "4         3966       SUDDENLY SUDAN     J     1.0"
      ]
     },
     "execution_count": 16,
     "metadata": {},
     "output_type": "execute_result"
    }
   ],
   "source": [
    "categories.head()"
   ]
  },
  {
   "cell_type": "code",
   "execution_count": 17,
   "metadata": {},
   "outputs": [
    {
     "data": {
      "text/plain": [
       "WORD ORIGINS                    134\n",
       "AMERICAN HISTORY                113\n",
       "AMERICANA                       103\n",
       "BEFORE & AFTER                   99\n",
       "AUTHORS                          89\n",
       "                               ... \n",
       "CAN WE TALK?                      1\n",
       "ARRESTED DEVELOPMENT              1\n",
       "CONGRESS IS ALL A-TWITTER         1\n",
       "QUOTABLE 21st CENTURY MOVIES      1\n",
       "SCIENCE \"N\" MEDICINE              1\n",
       "Name: category, Length: 37900, dtype: int64"
      ]
     },
     "execution_count": 17,
     "metadata": {},
     "output_type": "execute_result"
    }
   ],
   "source": [
    "categories['category'].value_counts()"
   ]
  },
  {
   "cell_type": "code",
   "execution_count": 18,
   "metadata": {},
   "outputs": [
    {
     "data": {
      "text/plain": [
       "<matplotlib.axes._subplots.AxesSubplot at 0x127aad5e040>"
      ]
     },
     "execution_count": 18,
     "metadata": {},
     "output_type": "execute_result"
    },
    {
     "data": {
      "image/png": "[encoded data removed]",
      "text/plain": [
       "<Figure size 432x288 with 1 Axes>"
      ]
     },
     "metadata": {
      "needs_background": "light"
     },
     "output_type": "display_data"
    }
   ],
   "source": [
    "categories['category'].value_counts().plot.hist(bins=100)"
   ]
  },
  {
   "cell_type": "code",
   "execution_count": 19,
   "metadata": {},
   "outputs": [
    {
     "data": {
      "text/plain": [
       "WORD ORIGINS        134\n",
       "AMERICAN HISTORY    113\n",
       "AMERICANA           103\n",
       "BEFORE & AFTER       99\n",
       "AUTHORS              89\n",
       "U.S. PRESIDENTS      85\n",
       "STATE CAPITALS       79\n",
       "SCIENCE              75\n",
       "POTPOURRI            75\n",
       "WORLD CAPITALS       72\n",
       "CLASSICAL MUSIC      66\n",
       "BODIES OF WATER      64\n",
       "ISLANDS              63\n",
       "U.S. CITIES          62\n",
       "LITERATURE           61\n",
       "Name: category, dtype: int64"
      ]
     },
     "execution_count": 19,
     "metadata": {},
     "output_type": "execute_result"
    }
   ],
   "source": [
    "categories['category'].value_counts().head(15)"
   ]
  },
  {
   "cell_type": "markdown",
   "metadata": {},
   "source": [
    "Category names also do not repeat that many times, though there are some like Word Origins and American History that repeat very often. Also, there's a problem that broad subjects like history, sports, music, TV and movies, and geopgraphy are often split into more specific categories. For example, if someone is planning to brush up on geography before being a contestant, using the 15 most popular categories they would need to brush up on State Capitals, Islands, World Capitals, Bodies of Water, and US Cities. One could manually attach a more generic subject to each category, but that would be time consuming and nonexhaustive.\n",
    "\n",
    "Many categories are often gimmicky, such as categories that start with, end with, or otherwise contain a letteror a series of letters"
   ]
  },
  {
   "cell_type": "markdown",
   "metadata": {},
   "source": [
    "Let's take a brief look at categories by round"
   ]
  },
  {
   "cell_type": "code",
   "execution_count": 20,
   "metadata": {},
   "outputs": [
    {
     "data": {
      "text/plain": [
       "STUPID ANSWERS        50\n",
       "POTPOURRI             46\n",
       "3-LETTER WORDS        33\n",
       "AMERICAN HISTORY      31\n",
       "RHYME TIME            31\n",
       "HODGEPODGE            29\n",
       "AMERICANA             29\n",
       "ANNUAL EVENTS         28\n",
       "WEIGHTS & MEASURES    27\n",
       "NONFICTION            26\n",
       "Name: category, dtype: int64"
      ]
     },
     "execution_count": 20,
     "metadata": {},
     "output_type": "execute_result"
    }
   ],
   "source": [
    "categories[categories['round'] == \"J\"]['category'].value_counts().head(10)"
   ]
  },
  {
   "cell_type": "code",
   "execution_count": 21,
   "metadata": {},
   "outputs": [
    {
     "data": {
      "text/plain": [
       "BEFORE & AFTER      88\n",
       "SCIENCE             41\n",
       "CLASSICAL MUSIC     40\n",
       "WORD ORIGINS        38\n",
       "AMERICAN HISTORY    37\n",
       "ART & ARTISTS       34\n",
       "POP CULTURE         33\n",
       "10-LETTER WORDS     31\n",
       "POETS & POETRY      31\n",
       "BALLET              30\n",
       "Name: category, dtype: int64"
      ]
     },
     "execution_count": 21,
     "metadata": {},
     "output_type": "execute_result"
    }
   ],
   "source": [
    "categories[categories['round'] == \"DJ\"]['category'].value_counts().head(10)"
   ]
  },
  {
   "cell_type": "code",
   "execution_count": 22,
   "metadata": {},
   "outputs": [
    {
     "data": {
      "text/plain": [
       "WORD ORIGINS        36\n",
       "U.S. PRESIDENTS     36\n",
       "AUTHORS             35\n",
       "AMERICANA           29\n",
       "STATE CAPITALS      26\n",
       "THE OSCARS          24\n",
       "AMERICAN HISTORY    22\n",
       "FAMOUS AMERICANS    21\n",
       "AMERICAN AUTHORS    20\n",
       "WORLD LEADERS       20\n",
       "Name: category, dtype: int64"
      ]
     },
     "execution_count": 22,
     "metadata": {},
     "output_type": "execute_result"
    }
   ],
   "source": [
    "categories[categories['round'] == \"FJ\"]['category'].value_counts().head(10)"
   ]
  },
  {
   "cell_type": "code",
   "execution_count": 23,
   "metadata": {},
   "outputs": [
    {
     "data": {
      "text/plain": [
       "<matplotlib.axes._subplots.AxesSubplot at 0x127b1e6b250>"
      ]
     },
     "execution_count": 23,
     "metadata": {},
     "output_type": "execute_result"
    },
    {
     "data": {
      "image/png": "[encoded data removed]",
      "text/plain": [
       "<Figure size 432x288 with 1 Axes>"
      ]
     },
     "metadata": {
      "needs_background": "light"
     },
     "output_type": "display_data"
    }
   ],
   "source": [
    "categories[categories['round'] == \"J\"]['category'].value_counts().plot.hist(bins=50)"
   ]
  },
  {
   "cell_type": "code",
   "execution_count": 24,
   "metadata": {},
   "outputs": [
    {
     "data": {
      "text/plain": [
       "<matplotlib.axes._subplots.AxesSubplot at 0x127b1e60ca0>"
      ]
     },
     "execution_count": 24,
     "metadata": {},
     "output_type": "execute_result"
    },
    {
     "data": {
      "image/png": "[encoded data removed]",
      "text/plain": [
       "<Figure size 432x288 with 1 Axes>"
      ]
     },
     "metadata": {
      "needs_background": "light"
     },
     "output_type": "display_data"
    }
   ],
   "source": [
    "categories[categories['round'] == \"DJ\"]['category'].value_counts().plot.hist(bins=50)"
   ]
  },
  {
   "cell_type": "code",
   "execution_count": 25,
   "metadata": {},
   "outputs": [
    {
     "data": {
      "text/plain": [
       "<matplotlib.axes._subplots.AxesSubplot at 0x127b1ffef40>"
      ]
     },
     "execution_count": 25,
     "metadata": {},
     "output_type": "execute_result"
    },
    {
     "data": {
      "image/png": "[encoded data removed]",
      "text/plain": [
       "<Figure size 432x288 with 1 Axes>"
      ]
     },
     "metadata": {
      "needs_background": "light"
     },
     "output_type": "display_data"
    }
   ],
   "source": [
    "categories[categories['round'] == \"FJ\"]['category'].value_counts().plot.hist(bins=50)"
   ]
  },
  {
   "cell_type": "markdown",
   "metadata": {},
   "source": [
    "A brief look at the histograms might suggest that Final Jeopardy categories are more likely to be repeats, while Jeopardy and Double Jeopardy aren't that different. If we look at the summary statistics of the value counts, we find that the mean number of occurances by category is higher by about .5, and the standard deviation is much higher than. "
   ]
  },
  {
   "cell_type": "code",
   "execution_count": 26,
   "metadata": {},
   "outputs": [
    {
     "data": {
      "text/plain": [
       "count    20165.000000\n",
       "mean         1.273494\n",
       "std          1.333995\n",
       "min          1.000000\n",
       "25%          1.000000\n",
       "50%          1.000000\n",
       "75%          1.000000\n",
       "max         50.000000\n",
       "Name: category, dtype: float64"
      ]
     },
     "execution_count": 26,
     "metadata": {},
     "output_type": "execute_result"
    }
   ],
   "source": [
    "categories[categories['round'] == \"J\"]['category'].value_counts().describe()"
   ]
  },
  {
   "cell_type": "code",
   "execution_count": 27,
   "metadata": {},
   "outputs": [
    {
     "data": {
      "text/plain": [
       "count    19478.000000\n",
       "mean         1.318411\n",
       "std          1.694747\n",
       "min          1.000000\n",
       "25%          1.000000\n",
       "50%          1.000000\n",
       "75%          1.000000\n",
       "max         88.000000\n",
       "Name: category, dtype: float64"
      ]
     },
     "execution_count": 27,
     "metadata": {},
     "output_type": "execute_result"
    }
   ],
   "source": [
    "categories[categories['round'] == \"DJ\"]['category'].value_counts().describe()"
   ]
  },
  {
   "cell_type": "code",
   "execution_count": 28,
   "metadata": {},
   "outputs": [
    {
     "data": {
      "text/plain": [
       "count    2423.000000\n",
       "mean        1.766405\n",
       "std         2.495395\n",
       "min         1.000000\n",
       "25%         1.000000\n",
       "50%         1.000000\n",
       "75%         1.000000\n",
       "max        36.000000\n",
       "Name: category, dtype: float64"
      ]
     },
     "execution_count": 28,
     "metadata": {},
     "output_type": "execute_result"
    }
   ],
   "source": [
    "categories[categories['round'] == \"FJ\"]['category'].value_counts().describe()"
   ]
  }
 ],
 "metadata": {
  "kernelspec": {
   "display_name": "Python 3",
   "language": "python",
   "name": "python3"
  },
  "language_info": {
   "codemirror_mode": {
    "name": "ipython",
    "version": 3
   },
   "file_extension": ".py",
   "mimetype": "text/x-python",
   "name": "python",
   "nbconvert_exporter": "python",
   "pygments_lexer": "ipython3",
   "version": "3.8.3"
  }
 },
 "nbformat": 4,
 "nbformat_minor": 4
}
