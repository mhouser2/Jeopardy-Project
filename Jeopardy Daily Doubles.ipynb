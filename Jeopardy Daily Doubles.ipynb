{
 "cells": [
  {
   "cell_type": "markdown",
   "metadata": {},
   "source": [
    "# Daily Double Location Probability\n",
    "The purpose of this notebook is to visualize the probability of a clue's location containing the Daily Double. We do this by using NumPy arrays to count the locations of Daily Doubles for the Jeopardy and Double Jeopardy rounds, and then dividing the array by the array sum to find the probability. "
   ]
  },
  {
   "cell_type": "code",
   "execution_count": 1,
   "metadata": {},
   "outputs": [],
   "source": [
    "# Import packages and read data\n",
    "import os\n",
    "import pandas as pd\n",
    "import numpy as np\n",
    "import matplotlib.pyplot as plt\n",
    "pd.options.display.max_colwidth = 125\n",
    "pd.options.display.max_rows = 100\n",
    "os.chdir('C:\\\\Users\\\\mhous\\\\scrap\\\\JeopardyProject')\n",
    "clues = pd.read_csv('clues.csv')"
   ]
  },
  {
   "cell_type": "code",
   "execution_count": 121,
   "metadata": {},
   "outputs": [
    {
     "name": "stdout",
     "output_type": "stream",
     "text": [
      "Summary Statistics of Daily Double by Order Number:\n"
     ]
    },
    {
     "data": {
      "text/plain": [
       "count    12705.000000\n",
       "mean        16.191736\n",
       "std          8.306012\n",
       "min          1.000000\n",
       "25%          9.000000\n",
       "50%         16.000000\n",
       "75%         23.000000\n",
       "max         30.000000\n",
       "Name: order_number, dtype: float64"
      ]
     },
     "execution_count": 121,
     "metadata": {},
     "output_type": "execute_result"
    }
   ],
   "source": [
    "# Subset the data to only the necessary columns\n",
    "df = clues[['value', 'round', 'column', 'row', 'order_number']]\n",
    "\n",
    "# Create boolean array for Daily Doubles\n",
    "daily_doubles_bool = df['value'].str.contains('DD')\n",
    "\n",
    "print('Summary Statistics of Daily Double by Order Number:')\n",
    "df[daily_doubles_bool]['order_number'].astype(int).describe()"
   ]
  },
  {
   "cell_type": "code",
   "execution_count": 89,
   "metadata": {},
   "outputs": [],
   "source": [
    "# Initialize empty NumPy arrays\n",
    "array_J = np.zeros((5,6))\n",
    "array_DJ = np.zeros((5,6))"
   ]
  },
  {
   "cell_type": "code",
   "execution_count": 115,
   "metadata": {},
   "outputs": [],
   "source": [
    "# Subset data to only daily doubles\n",
    "dd = df[daily_doubles_bool]\n",
    "# For loop counts the number of occurrences of the daily double in each tile of the grid. Uses if statement to separate the Jeopardy and Double Jeopardy rounds\n",
    "for i in range(len(dd)):\n",
    "    if dd.iloc[i]['round'] == 'J':\n",
    "        row = int(dd.iloc[i]['row']) - 1\n",
    "        col = int(dd.iloc[i]['column']) - 1\n",
    "        array_J[row][col] += 1\n",
    "    else:\n",
    "        row = int(dd.iloc[i]['row']) - 1\n",
    "        col = int(dd.iloc[i]['column']) -1\n",
    "        array_DJ[row][col] +=1"
   ]
  },
  {
   "cell_type": "code",
   "execution_count": 116,
   "metadata": {},
   "outputs": [
    {
     "name": "stdout",
     "output_type": "stream",
     "text": [
      "Probability of Daily Double in Jeopardy Round\n",
      "[[0.02 0.01 0.01 0.01 0.04 0.  ]\n",
      " [2.35 1.16 1.83 1.47 1.69 0.98]\n",
      " [6.23 3.37 5.11 5.14 4.62 3.26]\n",
      " [7.72 4.83 6.76 6.37 6.4  4.48]\n",
      " [5.84 3.23 4.9  4.77 4.24 3.16]]\n",
      "\n",
      "\n",
      "Probability of Daily Double in Double Jeopardy Round\n",
      "[[0.01 0.01 0.05 0.01 0.01 0.  ]\n",
      " [2.68 1.57 2.   1.66 2.08 1.22]\n",
      " [6.14 3.53 5.22 5.02 4.89 3.62]\n",
      " [7.37 4.7  7.22 6.3  7.1  4.78]\n",
      " [4.86 2.51 3.94 4.57 3.91 3.03]]\n"
     ]
    }
   ],
   "source": [
    "# Convert the arrays to probabilities, rounded to two decimal places\n",
    "prob_array_J = 100 * array_J/np.sum(array_J)\n",
    "prob_array_J = np.round(prob_array_J, 2)\n",
    "print('Probability of Daily Double in Jeopardy Round')\n",
    "print(prob_array_J)\n",
    "\n",
    "prob_array_DJ = 100 * array_DJ/np.sum(array_DJ)\n",
    "prob_array_DJ = np.round(prob_array_DJ, 2)\n",
    "print('\\n\\nProbability of Daily Double in Double Jeopardy Round')\n",
    "print(prob_array_DJ)"
   ]
  },
  {
   "cell_type": "code",
   "execution_count": 117,
   "metadata": {},
   "outputs": [
    {
     "data": {
      "image/png": "[encoded data removed]",
      "text/plain": [
       "<Figure size 576x576 with 1 Axes>"
      ]
     },
     "metadata": {
      "needs_background": "light"
     },
     "output_type": "display_data"
    }
   ],
   "source": [
    "# Plot the heatmat\n",
    "fig, ax = plt.subplots(figsize=(8,8))\n",
    "im = ax.imshow(prob_array_J, cmap = 'Blues')\n",
    "for i in range(5):\n",
    "    for j in range(6):\n",
    "        if prob_array_DJ[i, j] >=4.5:\n",
    "            text = ax.text(j, i, prob_array_J[i, j], ha=\"center\", va=\"center\", color=\"w\")\n",
    "        else:\n",
    "            text = ax.text(j, i, prob_array_J[i, j], ha=\"center\", va=\"center\", color=\"black\")\n",
    "            \n",
    "            \n",
    "plt.title('Probability of Having Daily Double in the Jeopardy Round (Percent)', loc='left')\n",
    "ax.set_yticklabels(['', '$200', '$400', '$600', '$800', '$1000'])\n",
    "plt.tick_params(axis='x', which='both',bottom=False, labelbottom=False)\n",
    "plt.show()"
   ]
  },
  {
   "cell_type": "code",
   "execution_count": 118,
   "metadata": {},
   "outputs": [
    {
     "data": {
      "image/png": "[encoded data removed]",
      "text/plain": [
       "<Figure size 576x576 with 1 Axes>"
      ]
     },
     "metadata": {
      "needs_background": "light"
     },
     "output_type": "display_data"
    }
   ],
   "source": [
    "# Plot the heatmap\n",
    "fig, ax = plt.subplots(figsize=(8,8))\n",
    "im = ax.imshow(prob_array_DJ, cmap = 'Blues')\n",
    "for i in range(5):\n",
    "    for j in range(6):\n",
    "        if prob_array_DJ[i, j] >=4.5:\n",
    "            text = ax.text(j, i, prob_array_DJ[i, j], ha=\"center\", va=\"center\", color=\"w\")\n",
    "        else:\n",
    "            text = ax.text(j, i, prob_array_DJ[i, j], ha=\"center\", va=\"center\", color=\"black\")\n",
    "            \n",
    "plt.title('Probability of Having Daily Double in the Double Jeopardy Round (Percent)', loc='left')\n",
    "ax.set_yticklabels(['', '$400', '$800', '$1200', '$1600', '$2000'])\n",
    "plt.tick_params(axis='x', which='both',bottom=False, labelbottom=False)\n",
    "plt.show()"
   ]
  },
  {
   "cell_type": "markdown",
   "metadata": {},
   "source": [
    "# By Rows/Columns"
   ]
  },
  {
   "cell_type": "code",
   "execution_count": 119,
   "metadata": {},
   "outputs": [
    {
     "name": "stdout",
     "output_type": "stream",
     "text": [
      "Probability Row X Contains the Daily Double in the Jeopardy Round:\n",
      "Row 1: 0.09\n",
      "Row 2: 9.48\n",
      "Row 3: 27.73\n",
      "Row 4: 36.56\n",
      "Row 5: 26.14\n"
     ]
    }
   ],
   "source": [
    "print('Probability Row X Contains the Daily Double in the Jeopardy Round:')\n",
    "for i in range(5):\n",
    "    prob = prob_array_J.sum(axis=1)[i]\n",
    "    print('Row ' + str(i+1) + ': ' + str(round(prob,2)))"
   ]
  },
  {
   "cell_type": "code",
   "execution_count": 120,
   "metadata": {},
   "outputs": [
    {
     "name": "stdout",
     "output_type": "stream",
     "text": [
      "Probability Row X Contains a Daily Double in the Double Jeopardy Round:\n",
      "Row 1: 0.09\n",
      "Row 2: 11.21\n",
      "Row 3: 28.42\n",
      "Row 4: 37.47\n",
      "Row 5: 22.82\n"
     ]
    }
   ],
   "source": [
    "print('Probability Row X Contains a Daily Double in the Double Jeopardy Round:')\n",
    "for i in range(5):\n",
    "    prob = prob_array_DJ.sum(axis=1)[i]\n",
    "    print('Row ' + str(i+1) + ': ' + str(round(prob, 2)))"
   ]
  },
  {
   "cell_type": "code",
   "execution_count": 123,
   "metadata": {},
   "outputs": [
    {
     "name": "stdout",
     "output_type": "stream",
     "text": [
      "Probability Column X Contains the Daily Double in the Jeopardy Round:\n",
      "Column 1: 22.16\n",
      "Column 2: 12.6\n",
      "Column 3: 18.61\n",
      "Column 4: 17.76\n",
      "Column 5: 16.99\n",
      "Column 6: 11.88\n"
     ]
    }
   ],
   "source": [
    "print('Probability Column X Contains the Daily Double in the Jeopardy Round:')\n",
    "for i in range(6):\n",
    "    prob = prob_array_J.sum(axis=0)[i]\n",
    "    print('Column ' + str(i+1) + ': ' + str(round(prob,2)))"
   ]
  },
  {
   "cell_type": "code",
   "execution_count": 124,
   "metadata": {},
   "outputs": [
    {
     "name": "stdout",
     "output_type": "stream",
     "text": [
      "Probability Column X Contains a Daily Double in the Double Jeopardy Round:\n",
      "Column 1: 21.06\n",
      "Column 2: 12.32\n",
      "Column 3: 18.43\n",
      "Column 4: 17.56\n",
      "Column 5: 17.99\n",
      "Column 6: 12.65\n"
     ]
    }
   ],
   "source": [
    "print('Probability Column X Contains a Daily Double in the Double Jeopardy Round:')\n",
    "for i in range(6):\n",
    "    prob = prob_array_DJ.sum(axis=0)[i]\n",
    "    print('Column ' + str(i+1) + ': ' + str(round(prob, 2)))"
   ]
  }
 ],
 "metadata": {
  "kernelspec": {
   "display_name": "Python 3",
   "language": "python",
   "name": "python3"
  },
  "language_info": {
   "codemirror_mode": {
    "name": "ipython",
    "version": 3
   },
   "file_extension": ".py",
   "mimetype": "text/x-python",
   "name": "python",
   "nbconvert_exporter": "python",
   "pygments_lexer": "ipython3",
   "version": "3.8.3"
  }
 },
 "nbformat": 4,
 "nbformat_minor": 4
}
