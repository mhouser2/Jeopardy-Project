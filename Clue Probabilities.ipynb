{
 "cells": [
  {
   "cell_type": "markdown",
   "metadata": {},
   "source": [
    "# Clue Probabilities\n",
    "The purpose of this notebook is to visualize the probability of answering a clue correct, given only the grid location of the clue. \n",
    "\n",
    "We do this by using NumPy arrays to represent every possible clue location and use for loops to count if the clue was answered correctly by any of the contestants. After finding the number of correctly answered clues in each clue location, we use another for loop to count the number of occurances of that clue location being chosen. We do this because time often runs out before all questions are answered correctly, so we cannot just divide the first array by number of games played."
   ]
  },
  {
   "cell_type": "code",
   "execution_count": 1,
   "metadata": {},
   "outputs": [],
   "source": [
    "# Import packages and read data\n",
    "import os\n",
    "import pandas as pd\n",
    "import numpy as np\n",
    "import matplotlib.pyplot as plt\n",
    "import warnings\n",
    "warnings.simplefilter(action='ignore')\n",
    "os.chdir('C:\\\\Users\\\\mhous\\\\scrap\\\\JeopardyProject')\n",
    "clues = pd.read_csv('clues.csv')"
   ]
  },
  {
   "cell_type": "code",
   "execution_count": 2,
   "metadata": {},
   "outputs": [
    {
     "data": {
      "text/html": [
       "<div>\n",
       "<style scoped>\n",
       "    .dataframe tbody tr th:only-of-type {\n",
       "        vertical-align: middle;\n",
       "    }\n",
       "\n",
       "    .dataframe tbody tr th {\n",
       "        vertical-align: top;\n",
       "    }\n",
       "\n",
       "    .dataframe thead th {\n",
       "        text-align: right;\n",
       "    }\n",
       "</style>\n",
       "<table border=\"1\" class=\"dataframe\">\n",
       "  <thead>\n",
       "    <tr style=\"text-align: right;\">\n",
       "      <th></th>\n",
       "      <th>round</th>\n",
       "      <th>column</th>\n",
       "      <th>row</th>\n",
       "      <th>n_correct</th>\n",
       "      <th>n_incorrect</th>\n",
       "    </tr>\n",
       "  </thead>\n",
       "  <tbody>\n",
       "    <tr>\n",
       "      <th>0</th>\n",
       "      <td>J</td>\n",
       "      <td>1.0</td>\n",
       "      <td>1.0</td>\n",
       "      <td>1</td>\n",
       "      <td>0</td>\n",
       "    </tr>\n",
       "    <tr>\n",
       "      <th>1</th>\n",
       "      <td>J</td>\n",
       "      <td>1.0</td>\n",
       "      <td>2.0</td>\n",
       "      <td>1</td>\n",
       "      <td>0</td>\n",
       "    </tr>\n",
       "    <tr>\n",
       "      <th>2</th>\n",
       "      <td>J</td>\n",
       "      <td>1.0</td>\n",
       "      <td>3.0</td>\n",
       "      <td>1</td>\n",
       "      <td>0</td>\n",
       "    </tr>\n",
       "    <tr>\n",
       "      <th>3</th>\n",
       "      <td>J</td>\n",
       "      <td>1.0</td>\n",
       "      <td>4.0</td>\n",
       "      <td>0</td>\n",
       "      <td>2</td>\n",
       "    </tr>\n",
       "    <tr>\n",
       "      <th>4</th>\n",
       "      <td>J</td>\n",
       "      <td>1.0</td>\n",
       "      <td>5.0</td>\n",
       "      <td>1</td>\n",
       "      <td>0</td>\n",
       "    </tr>\n",
       "  </tbody>\n",
       "</table>\n",
       "</div>"
      ],
      "text/plain": [
       "  round  column  row  n_correct  n_incorrect\n",
       "0     J     1.0  1.0          1            0\n",
       "1     J     1.0  2.0          1            0\n",
       "2     J     1.0  3.0          1            0\n",
       "3     J     1.0  4.0          0            2\n",
       "4     J     1.0  5.0          1            0"
      ]
     },
     "execution_count": 2,
     "metadata": {},
     "output_type": "execute_result"
    }
   ],
   "source": [
    "# Subset the data to just the necessary columns\n",
    "df = clues[['round', 'column', 'row', 'n_correct', 'n_incorrect']]\n",
    "df.head()"
   ]
  },
  {
   "cell_type": "code",
   "execution_count": 3,
   "metadata": {},
   "outputs": [],
   "source": [
    "#Initialize empty arrays for number of correctly answered clues in the Jeopardy and Double Jeopardy rounds\n",
    "array_J = np.zeros((5,6))\n",
    "array_DJ = np.zeros((5,6))"
   ]
  },
  {
   "cell_type": "code",
   "execution_count": 4,
   "metadata": {},
   "outputs": [],
   "source": [
    "# Use for loops to count the number of occurrences each clue location was answered correctly \n",
    "for i in range(len(df)):\n",
    "    if (df.iloc[i]['round'] == 'J') & (df.iloc[i]['n_correct'] == 1):\n",
    "            row = int(df.iloc[i]['row']) - 1\n",
    "            col = int(df.iloc[i]['column']) - 1\n",
    "            array_J[row][col] += 1\n",
    "    elif (df.iloc[i]['round'] == 'DJ') & (df.iloc[i]['n_correct'] == 1):\n",
    "            row = int(df.iloc[i]['row']) - 1\n",
    "            col = int(df.iloc[i]['column']) -1\n",
    "            array_DJ[row][col] +=1"
   ]
  },
  {
   "cell_type": "code",
   "execution_count": 5,
   "metadata": {},
   "outputs": [],
   "source": [
    "# Initialize empty arrays for the number of occurrences each clue location was chosen\n",
    "array_J_total = np.zeros((5,6))\n",
    "array_DJ_total = np.zeros((5,6))"
   ]
  },
  {
   "cell_type": "code",
   "execution_count": 6,
   "metadata": {},
   "outputs": [],
   "source": [
    "# Use for loops to count the number of occurrences each clue location was chosen\n",
    "for i in range(len(df)):\n",
    "    if (df.iloc[i]['round'] == 'J'):\n",
    "            row = int(df.iloc[i]['row']) - 1\n",
    "            col = int(df.iloc[i]['column']) - 1\n",
    "            array_J_total[row][col] += 1\n",
    "    elif (df.iloc[i]['round'] == 'DJ'):\n",
    "            row = int(df.iloc[i]['row']) - 1\n",
    "            col = int(df.iloc[i]['column']) -1\n",
    "            array_DJ_total[row][col] +=1"
   ]
  },
  {
   "cell_type": "code",
   "execution_count": 7,
   "metadata": {},
   "outputs": [
    {
     "name": "stdout",
     "output_type": "stream",
     "text": [
      "Jeopardy Round:\n",
      "[[96.   95.95 95.73 95.49 96.07 96.02]\n",
      " [91.15 91.78 92.29 91.94 91.47 93.02]\n",
      " [86.96 88.18 88.66 87.73 88.77 88.5 ]\n",
      " [81.43 83.66 83.8  83.83 85.15 85.74]\n",
      " [73.13 75.68 74.97 73.86 74.43 77.84]]\n",
      "\n",
      "\n",
      "Double Jeopardy Round:\n",
      "[[93.97 94.17 93.3  93.77 94.13 94.45]\n",
      " [86.33 88.86 87.87 88.35 87.9  89.56]\n",
      " [79.3  83.52 80.97 81.57 81.29 84.08]\n",
      " [73.19 75.92 73.86 74.87 74.16 77.86]\n",
      " [62.16 65.98 63.81 64.66 63.61 68.63]]\n"
     ]
    }
   ],
   "source": [
    "# Divide the number of correctly answered clues by location by the number of clues by location for the Jeopardy and Double Jeopardy rounds\n",
    "prob_array_J = 100 * array_J/array_J_total\n",
    "prob_array_J = np.round(prob_array_J, 2)\n",
    "print('Jeopardy Round:')\n",
    "print(prob_array_J)\n",
    "\n",
    "prob_array_DJ = 100 * array_DJ/array_DJ_total\n",
    "prob_array_DJ = np.round(prob_array_DJ, 2)\n",
    "print('\\n\\nDouble Jeopardy Round:')\n",
    "print(prob_array_DJ)"
   ]
  },
  {
   "cell_type": "code",
   "execution_count": 8,
   "metadata": {},
   "outputs": [
    {
     "data": {
      "image/png": "[encoded data removed]",
      "text/plain": [
       "<Figure size 720x720 with 1 Axes>"
      ]
     },
     "metadata": {
      "needs_background": "light"
     },
     "output_type": "display_data"
    }
   ],
   "source": [
    "fig, ax = plt.subplots(figsize=(10,10))\n",
    "im = ax.imshow(prob_array_J, cmap = 'Blues')\n",
    "for i in range(5):\n",
    "    for j in range(6):\n",
    "        if prob_array_J[i, j] >= 86:\n",
    "            text = ax.text(j, i, prob_array_J[i, j], ha=\"center\", va=\"center\", color=\"w\")\n",
    "        else:\n",
    "            text = ax.text(j, i, prob_array_J[i, j], ha=\"center\", va=\"center\", color=\"black\")\n",
    "plt.title('Probability of Having Daily Double in the Jeopardy Round (Percent)', loc='left')\n",
    "ax.set_yticklabels(['', '$200', '$400', '$600', '$800', '$1000'])\n",
    "plt.tick_params(axis='x', which='both',bottom=False, labelbottom=False)\n",
    "plt.show()"
   ]
  },
  {
   "cell_type": "code",
   "execution_count": 9,
   "metadata": {},
   "outputs": [
    {
     "data": {
      "image/png": "[encoded data removed]",
      "text/plain": [
       "<Figure size 720x720 with 1 Axes>"
      ]
     },
     "metadata": {
      "needs_background": "light"
     },
     "output_type": "display_data"
    }
   ],
   "source": [
    "fig, ax = plt.subplots(figsize=(10,10))\n",
    "im = ax.imshow(prob_array_DJ, cmap = 'Blues')\n",
    "for i in range(5):\n",
    "    for j in range(6):\n",
    "        if prob_array_DJ[i, j] >= 78:\n",
    "            text = ax.text(j, i, prob_array_DJ[i, j], ha=\"center\", va=\"center\", color=\"w\")\n",
    "        else:\n",
    "            text = ax.text(j, i, prob_array_DJ[i, j], ha=\"center\", va=\"center\", color=\"black\")\n",
    "plt.title('Probability of Clue being Answered Correctly in the Double Jeopardy Round', loc = 'left')\n",
    "ax.set_yticklabels(['', '$400', '$800', '$1200', '$1600', '$2000'])\n",
    "plt.tick_params(axis='x', which='both',bottom=False, labelbottom=False)\n",
    "plt.show()"
   ]
  },
  {
   "cell_type": "code",
   "execution_count": 10,
   "metadata": {},
   "outputs": [
    {
     "name": "stdout",
     "output_type": "stream",
     "text": [
      "Probability Clue in Row X is Answered Correctly in the Jeopardy Round:\n",
      "Row 1: 95.88\n",
      "Row 2: 91.94\n",
      "Row 3: 88.13\n",
      "Row 4: 83.94\n",
      "Row 5: 74.98\n"
     ]
    }
   ],
   "source": [
    "print('Probability Clue in Row X is Answered Correctly in the Jeopardy Round:')\n",
    "for i in range(5):\n",
    "    prob = prob_array_J.mean(axis=1)[i]\n",
    "    print('Row ' + str(i+1) + ': ' + str(round(prob,2)))"
   ]
  },
  {
   "cell_type": "code",
   "execution_count": 11,
   "metadata": {},
   "outputs": [
    {
     "name": "stdout",
     "output_type": "stream",
     "text": [
      "Probability Clue in Row X is Answered Correctly in the Double Jeopardy Round:\n",
      "Row 1: 93.96\n",
      "Row 2: 88.14\n",
      "Row 3: 81.79\n",
      "Row 4: 74.98\n",
      "Row 5: 64.81\n"
     ]
    }
   ],
   "source": [
    "print('Probability Clue in Row X is Answered Correctly in the Double Jeopardy Round:')\n",
    "for i in range(5):\n",
    "    prob = prob_array_DJ.mean(axis=1)[i]\n",
    "    print('Row ' + str(i+1) + ': ' + str(round(prob,2)))"
   ]
  },
  {
   "cell_type": "code",
   "execution_count": 12,
   "metadata": {},
   "outputs": [
    {
     "name": "stdout",
     "output_type": "stream",
     "text": [
      "Probability Clue in Column X is Answered Correctly in the Jeopardy Round:\n",
      "Column 1: 85.73\n",
      "Column 2: 87.05\n",
      "Column 3: 87.09\n",
      "Column 4: 86.57\n",
      "Column 5: 87.18\n",
      "Column 6: 88.22\n"
     ]
    }
   ],
   "source": [
    "print('Probability Clue in Column X is Answered Correctly in the Jeopardy Round:')\n",
    "for i in range(6):\n",
    "    prob = prob_array_J.mean(axis=0)[i]\n",
    "    print('Column ' + str(i+1) + ': ' + str(round(prob,2)))"
   ]
  },
  {
   "cell_type": "code",
   "execution_count": 13,
   "metadata": {},
   "outputs": [
    {
     "name": "stdout",
     "output_type": "stream",
     "text": [
      "Probability Clue in Row X is Answered Correctly in the Double Jeopardy Round:\n",
      "Column 1: 78.99\n",
      "Column 2: 81.69\n",
      "Column 3: 79.96\n",
      "Column 4: 80.64\n",
      "Column 5: 80.22\n",
      "Column 6: 82.92\n"
     ]
    }
   ],
   "source": [
    "print('Probability Clue in Row X is Answered Correctly in the Double Jeopardy Round:')\n",
    "for i in range(6):\n",
    "    prob = prob_array_DJ.mean(axis=0)[i]\n",
    "    print('Column ' + str(i+1) + ': ' + str(round(prob,2)))"
   ]
  },
  {
   "cell_type": "code",
   "execution_count": 14,
   "metadata": {},
   "outputs": [],
   "source": [
    "FJ_correct = 0\n",
    "FJ_contestants = 0\n",
    "FJ = df[df['round'] == 'FJ']\n",
    "for i in range(len(FJ)):\n",
    "    FJ_correct += FJ.iloc[i]['n_correct']\n",
    "    FJ_contestants += FJ.iloc[i]['n_correct'] + FJ.iloc[i]['n_incorrect']"
   ]
  },
  {
   "cell_type": "markdown",
   "metadata": {},
   "source": [
    "### Final Jeopardy Statistics"
   ]
  },
  {
   "cell_type": "code",
   "execution_count": 15,
   "metadata": {},
   "outputs": [
    {
     "name": "stdout",
     "output_type": "stream",
     "text": [
      "Probability of Answering Final Jeopardy Correctly\n",
      "0.49250773011971777\n"
     ]
    }
   ],
   "source": [
    "print('Probability of Answering Final Jeopardy Correctly')\n",
    "print(FJ_correct/FJ_contestants)"
   ]
  },
  {
   "cell_type": "code",
   "execution_count": 16,
   "metadata": {},
   "outputs": [
    {
     "name": "stdout",
     "output_type": "stream",
     "text": [
      "Number of Correct Contestants in Final Jeopardy\n"
     ]
    },
    {
     "data": {
      "text/plain": [
       "n_correct\n",
       "0     874\n",
       "1    1372\n",
       "2    1262\n",
       "3     772\n",
       "Name: round, dtype: int64"
      ]
     },
     "execution_count": 16,
     "metadata": {},
     "output_type": "execute_result"
    }
   ],
   "source": [
    "print('Number of Correct Contestants in Final Jeopardy')\n",
    "FJ.groupby(['n_correct'])['round'].count()"
   ]
  }
 ],
 "metadata": {
  "kernelspec": {
   "display_name": "Python 3",
   "language": "python",
   "name": "python3"
  },
  "language_info": {
   "codemirror_mode": {
    "name": "ipython",
    "version": 3
   },
   "file_extension": ".py",
   "mimetype": "text/x-python",
   "name": "python",
   "nbconvert_exporter": "python",
   "pygments_lexer": "ipython3",
   "version": "3.8.5"
  }
 },
 "nbformat": 4,
 "nbformat_minor": 4
}
