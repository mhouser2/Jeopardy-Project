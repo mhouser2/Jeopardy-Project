{
 "cells": [
  {
   "cell_type": "markdown",
   "metadata": {},
   "source": [
    "# Jeopardy Practice\n",
    "\n",
    "The purpose of this notebook is to create a simple function that asks the user to input the correct response to Jeopardy clues and records the number of correct/incorrect responses"
   ]
  },
  {
   "cell_type": "code",
   "execution_count": 1,
   "metadata": {},
   "outputs": [],
   "source": [
    "import time\n",
    "import os\n",
    "import pandas as pd\n",
    "import numpy as np\n",
    "pd.options.display.max_colwidth = 125\n",
    "pd.options.display.max_rows = 100\n",
    "os.chdir('C:\\\\Users\\\\mhous\\\\scrap\\\\JeopardyProject')"
   ]
  },
  {
   "cell_type": "code",
   "execution_count": 2,
   "metadata": {},
   "outputs": [
    {
     "data": {
      "text/html": [
       "<div>\n",
       "<style scoped>\n",
       "    .dataframe tbody tr th:only-of-type {\n",
       "        vertical-align: middle;\n",
       "    }\n",
       "\n",
       "    .dataframe tbody tr th {\n",
       "        vertical-align: top;\n",
       "    }\n",
       "\n",
       "    .dataframe thead th {\n",
       "        text-align: right;\n",
       "    }\n",
       "</style>\n",
       "<table border=\"1\" class=\"dataframe\">\n",
       "  <thead>\n",
       "    <tr style=\"text-align: right;\">\n",
       "      <th></th>\n",
       "      <th>game_id</th>\n",
       "      <th>show_number</th>\n",
       "      <th>date</th>\n",
       "      <th>value</th>\n",
       "      <th>round</th>\n",
       "      <th>category</th>\n",
       "      <th>column</th>\n",
       "      <th>row</th>\n",
       "      <th>order_number</th>\n",
       "      <th>clue</th>\n",
       "      <th>correct_response</th>\n",
       "      <th>correct</th>\n",
       "      <th>incorrect</th>\n",
       "      <th>n_correct</th>\n",
       "      <th>n_incorrect</th>\n",
       "      <th>n_didnt_know</th>\n",
       "    </tr>\n",
       "  </thead>\n",
       "  <tbody>\n",
       "    <tr>\n",
       "      <th>0</th>\n",
       "      <td>Show #7943 - Wednesday, March 6, 2019</td>\n",
       "      <td>7943</td>\n",
       "      <td>2019-03-06</td>\n",
       "      <td>$200</td>\n",
       "      <td>J</td>\n",
       "      <td>HISTORIC STRUCTURES</td>\n",
       "      <td>1.0</td>\n",
       "      <td>1.0</td>\n",
       "      <td>8</td>\n",
       "      <td>In an effort to preserve this 800-year-old Italian structure, really heavy counterweights were installed</td>\n",
       "      <td>the Leaning Tower of Pisa</td>\n",
       "      <td>Tim</td>\n",
       "      <td>NaN</td>\n",
       "      <td>1</td>\n",
       "      <td>0</td>\n",
       "      <td>0</td>\n",
       "    </tr>\n",
       "    <tr>\n",
       "      <th>1</th>\n",
       "      <td>Show #7943 - Wednesday, March 6, 2019</td>\n",
       "      <td>7943</td>\n",
       "      <td>2019-03-06</td>\n",
       "      <td>$400</td>\n",
       "      <td>J</td>\n",
       "      <td>HISTORIC STRUCTURES</td>\n",
       "      <td>1.0</td>\n",
       "      <td>2.0</td>\n",
       "      <td>9</td>\n",
       "      <td>Before billeting the RAF in World War II, Blickling Estate was the birthplace of this second wife of Henry VIII</td>\n",
       "      <td>Anne Boleyn</td>\n",
       "      <td>Eric</td>\n",
       "      <td>NaN</td>\n",
       "      <td>1</td>\n",
       "      <td>0</td>\n",
       "      <td>0</td>\n",
       "    </tr>\n",
       "    <tr>\n",
       "      <th>2</th>\n",
       "      <td>Show #7943 - Wednesday, March 6, 2019</td>\n",
       "      <td>7943</td>\n",
       "      <td>2019-03-06</td>\n",
       "      <td>$600</td>\n",
       "      <td>J</td>\n",
       "      <td>HISTORIC STRUCTURES</td>\n",
       "      <td>1.0</td>\n",
       "      <td>3.0</td>\n",
       "      <td>10</td>\n",
       "      <td>Later famous as a rock concert venue, Tokyo's Nippon Budokan Hall was built to host this martial art at the 1964 Olympics</td>\n",
       "      <td>judo</td>\n",
       "      <td>Tim</td>\n",
       "      <td>NaN</td>\n",
       "      <td>1</td>\n",
       "      <td>0</td>\n",
       "      <td>0</td>\n",
       "    </tr>\n",
       "    <tr>\n",
       "      <th>3</th>\n",
       "      <td>Show #7943 - Wednesday, March 6, 2019</td>\n",
       "      <td>7943</td>\n",
       "      <td>2019-03-06</td>\n",
       "      <td>$800</td>\n",
       "      <td>J</td>\n",
       "      <td>HISTORIC STRUCTURES</td>\n",
       "      <td>1.0</td>\n",
       "      <td>4.0</td>\n",
       "      <td>11</td>\n",
       "      <td>\"Scholars\" know the Knights Hospitaller had a palace for the grand master on this large Greek island</td>\n",
       "      <td>Rhodes</td>\n",
       "      <td>NaN</td>\n",
       "      <td>Dana, Tim, Triple Stumper</td>\n",
       "      <td>0</td>\n",
       "      <td>2</td>\n",
       "      <td>3</td>\n",
       "    </tr>\n",
       "    <tr>\n",
       "      <th>4</th>\n",
       "      <td>Show #7943 - Wednesday, March 6, 2019</td>\n",
       "      <td>7943</td>\n",
       "      <td>2019-03-06</td>\n",
       "      <td>$1000</td>\n",
       "      <td>J</td>\n",
       "      <td>HISTORIC STRUCTURES</td>\n",
       "      <td>1.0</td>\n",
       "      <td>5.0</td>\n",
       "      <td>12</td>\n",
       "      <td>Herod built this Israel mountain fortress; later the Romans had trouble taking it from the Zealots</td>\n",
       "      <td>Masada</td>\n",
       "      <td>Dana</td>\n",
       "      <td>NaN</td>\n",
       "      <td>1</td>\n",
       "      <td>0</td>\n",
       "      <td>0</td>\n",
       "    </tr>\n",
       "    <tr>\n",
       "      <th>5</th>\n",
       "      <td>Show #7943 - Wednesday, March 6, 2019</td>\n",
       "      <td>7943</td>\n",
       "      <td>2019-03-06</td>\n",
       "      <td>$200</td>\n",
       "      <td>J</td>\n",
       "      <td>ALPHANUMERIC ATHLETES</td>\n",
       "      <td>2.0</td>\n",
       "      <td>1.0</td>\n",
       "      <td>21</td>\n",
       "      <td>Married to GB: TB12</td>\n",
       "      <td>Tom Brady</td>\n",
       "      <td>Eric</td>\n",
       "      <td>NaN</td>\n",
       "      <td>1</td>\n",
       "      <td>0</td>\n",
       "      <td>0</td>\n",
       "    </tr>\n",
       "    <tr>\n",
       "      <th>6</th>\n",
       "      <td>Show #7943 - Wednesday, March 6, 2019</td>\n",
       "      <td>7943</td>\n",
       "      <td>2019-03-06</td>\n",
       "      <td>$400</td>\n",
       "      <td>J</td>\n",
       "      <td>ALPHANUMERIC ATHLETES</td>\n",
       "      <td>2.0</td>\n",
       "      <td>2.0</td>\n",
       "      <td>22</td>\n",
       "      <td>Recently retired: KB24</td>\n",
       "      <td>Kobe Bryant</td>\n",
       "      <td>Eric</td>\n",
       "      <td>NaN</td>\n",
       "      <td>1</td>\n",
       "      <td>0</td>\n",
       "      <td>0</td>\n",
       "    </tr>\n",
       "    <tr>\n",
       "      <th>7</th>\n",
       "      <td>Show #7943 - Wednesday, March 6, 2019</td>\n",
       "      <td>7943</td>\n",
       "      <td>2019-03-06</td>\n",
       "      <td>$600</td>\n",
       "      <td>J</td>\n",
       "      <td>ALPHANUMERIC ATHLETES</td>\n",
       "      <td>2.0</td>\n",
       "      <td>3.0</td>\n",
       "      <td>23</td>\n",
       "      <td>Point guard CP3</td>\n",
       "      <td>Chris Paul</td>\n",
       "      <td>Eric</td>\n",
       "      <td>NaN</td>\n",
       "      <td>1</td>\n",
       "      <td>0</td>\n",
       "      <td>0</td>\n",
       "    </tr>\n",
       "    <tr>\n",
       "      <th>8</th>\n",
       "      <td>Show #7943 - Wednesday, March 6, 2019</td>\n",
       "      <td>7943</td>\n",
       "      <td>2019-03-06</td>\n",
       "      <td>$800</td>\n",
       "      <td>J</td>\n",
       "      <td>ALPHANUMERIC ATHLETES</td>\n",
       "      <td>2.0</td>\n",
       "      <td>4.0</td>\n",
       "      <td>24</td>\n",
       "      <td>Heisman Trophy winner RG#3</td>\n",
       "      <td>Robert Griffin III</td>\n",
       "      <td>Eric</td>\n",
       "      <td>NaN</td>\n",
       "      <td>1</td>\n",
       "      <td>0</td>\n",
       "      <td>0</td>\n",
       "    </tr>\n",
       "    <tr>\n",
       "      <th>9</th>\n",
       "      <td>Show #7943 - Wednesday, March 6, 2019</td>\n",
       "      <td>7943</td>\n",
       "      <td>2019-03-06</td>\n",
       "      <td>$1000</td>\n",
       "      <td>J</td>\n",
       "      <td>ALPHANUMERIC ATHLETES</td>\n",
       "      <td>2.0</td>\n",
       "      <td>5.0</td>\n",
       "      <td>25</td>\n",
       "      <td>Hall of Fame running back LT2</td>\n",
       "      <td>LaDainian Tomlinson</td>\n",
       "      <td>NaN</td>\n",
       "      <td>Eric, Tim, Triple Stumper</td>\n",
       "      <td>0</td>\n",
       "      <td>2</td>\n",
       "      <td>3</td>\n",
       "    </tr>\n",
       "  </tbody>\n",
       "</table>\n",
       "</div>"
      ],
      "text/plain": [
       "                                 game_id  show_number        date  value  \\\n",
       "0  Show #7943 - Wednesday, March 6, 2019         7943  2019-03-06   $200   \n",
       "1  Show #7943 - Wednesday, March 6, 2019         7943  2019-03-06   $400   \n",
       "2  Show #7943 - Wednesday, March 6, 2019         7943  2019-03-06   $600   \n",
       "3  Show #7943 - Wednesday, March 6, 2019         7943  2019-03-06   $800   \n",
       "4  Show #7943 - Wednesday, March 6, 2019         7943  2019-03-06  $1000   \n",
       "5  Show #7943 - Wednesday, March 6, 2019         7943  2019-03-06   $200   \n",
       "6  Show #7943 - Wednesday, March 6, 2019         7943  2019-03-06   $400   \n",
       "7  Show #7943 - Wednesday, March 6, 2019         7943  2019-03-06   $600   \n",
       "8  Show #7943 - Wednesday, March 6, 2019         7943  2019-03-06   $800   \n",
       "9  Show #7943 - Wednesday, March 6, 2019         7943  2019-03-06  $1000   \n",
       "\n",
       "  round               category  column  row order_number  \\\n",
       "0     J    HISTORIC STRUCTURES     1.0  1.0            8   \n",
       "1     J    HISTORIC STRUCTURES     1.0  2.0            9   \n",
       "2     J    HISTORIC STRUCTURES     1.0  3.0           10   \n",
       "3     J    HISTORIC STRUCTURES     1.0  4.0           11   \n",
       "4     J    HISTORIC STRUCTURES     1.0  5.0           12   \n",
       "5     J  ALPHANUMERIC ATHLETES     2.0  1.0           21   \n",
       "6     J  ALPHANUMERIC ATHLETES     2.0  2.0           22   \n",
       "7     J  ALPHANUMERIC ATHLETES     2.0  3.0           23   \n",
       "8     J  ALPHANUMERIC ATHLETES     2.0  4.0           24   \n",
       "9     J  ALPHANUMERIC ATHLETES     2.0  5.0           25   \n",
       "\n",
       "                                                                                                                        clue  \\\n",
       "0                   In an effort to preserve this 800-year-old Italian structure, really heavy counterweights were installed   \n",
       "1            Before billeting the RAF in World War II, Blickling Estate was the birthplace of this second wife of Henry VIII   \n",
       "2  Later famous as a rock concert venue, Tokyo's Nippon Budokan Hall was built to host this martial art at the 1964 Olympics   \n",
       "3                       \"Scholars\" know the Knights Hospitaller had a palace for the grand master on this large Greek island   \n",
       "4                         Herod built this Israel mountain fortress; later the Romans had trouble taking it from the Zealots   \n",
       "5                                                                                                        Married to GB: TB12   \n",
       "6                                                                                                     Recently retired: KB24   \n",
       "7                                                                                                            Point guard CP3   \n",
       "8                                                                                                 Heisman Trophy winner RG#3   \n",
       "9                                                                                              Hall of Fame running back LT2   \n",
       "\n",
       "            correct_response correct                  incorrect  n_correct  \\\n",
       "0  the Leaning Tower of Pisa     Tim                        NaN          1   \n",
       "1                Anne Boleyn    Eric                        NaN          1   \n",
       "2                       judo     Tim                        NaN          1   \n",
       "3                     Rhodes     NaN  Dana, Tim, Triple Stumper          0   \n",
       "4                     Masada    Dana                        NaN          1   \n",
       "5                  Tom Brady    Eric                        NaN          1   \n",
       "6                Kobe Bryant    Eric                        NaN          1   \n",
       "7                 Chris Paul    Eric                        NaN          1   \n",
       "8         Robert Griffin III    Eric                        NaN          1   \n",
       "9        LaDainian Tomlinson     NaN  Eric, Tim, Triple Stumper          0   \n",
       "\n",
       "   n_incorrect  n_didnt_know  \n",
       "0            0             0  \n",
       "1            0             0  \n",
       "2            0             0  \n",
       "3            2             3  \n",
       "4            0             0  \n",
       "5            0             0  \n",
       "6            0             0  \n",
       "7            0             0  \n",
       "8            0             0  \n",
       "9            2             3  "
      ]
     },
     "execution_count": 2,
     "metadata": {},
     "output_type": "execute_result"
    }
   ],
   "source": [
    "df = pd.read_csv('clues.csv')\n",
    "\n",
    "df.head(10)"
   ]
  },
  {
   "cell_type": "markdown",
   "metadata": {},
   "source": [
    "The purpose of the override is to manually record if you got the answer correct, but the input differed from the correct response due to spelling, parentheses, etc.\n",
    "\n",
    "Just put \"Y\" as the override and it will be counted"
   ]
  },
  {
   "cell_type": "code",
   "execution_count": 3,
   "metadata": {},
   "outputs": [],
   "source": [
    "def random_clue(data):\n",
    "    random_int = np.random.randint(0, len(data))\n",
    "    category = data.iloc[random_int]['category']\n",
    "    clue = data.iloc[random_int]['clue']\n",
    "    correct_response = data.iloc[random_int]['correct_response']\n",
    "    game_round = data.iloc[random_int]['round']\n",
    "    row = data.iloc[random_int]['row']\n",
    "    print(\"Category:\" + category)\n",
    "    print(\"Round:\"  + game_round + \" Row:\" + str(row))\n",
    "    time.sleep(1)\n",
    "    print(\"Clue:\" + clue)\n",
    "    response = input()\n",
    "    print(\"Correct Response:\" + correct_response)\n",
    "    override = input()\n",
    "    if response == correct_response or override == \"Y\":\n",
    "        return True\n",
    "    else:\n",
    "        return False"
   ]
  },
  {
   "cell_type": "code",
   "execution_count": 4,
   "metadata": {},
   "outputs": [],
   "source": [
    "def practice_questions(data, n_questions):\n",
    "    start_time = time.perf_counter()\n",
    "    r = 0\n",
    "    w = 0\n",
    "    for i in range(n_questions):\n",
    "        response = random_clue(data)\n",
    "        if response == True:\n",
    "            r +=1\n",
    "        else:\n",
    "            w +=1\n",
    "    end_time = time.perf_counter()\n",
    "    print('Number correct: %s' % r)\n",
    "    print('Number incorrect: %s' % w)\n",
    "    print('Total Time: %s' % str(end_time-start_time))\n",
    "    print('Seconds/Question: %s' % str((end_time-start_time)/n_questions))"
   ]
  },
  {
   "cell_type": "code",
   "execution_count": 5,
   "metadata": {},
   "outputs": [
    {
     "name": "stdout",
     "output_type": "stream",
     "text": [
      "Category:OSCAR, GRAMMY OR BOTH\n",
      "Round:J Row:1.0\n",
      "Clue:Frank Sinatra\n"
     ]
    },
    {
     "name": "stdin",
     "output_type": "stream",
     "text": [
      " \n"
     ]
    },
    {
     "name": "stdout",
     "output_type": "stream",
     "text": [
      "Correct Response:both\n"
     ]
    },
    {
     "name": "stdin",
     "output_type": "stream",
     "text": [
      " \n"
     ]
    },
    {
     "name": "stdout",
     "output_type": "stream",
     "text": [
      "Category:OMAHA BEACH\n",
      "Round:J Row:2.0\n",
      "Clue:(Sarah of the Clue Crew delivers the clue from Omaha Beach in France.)  Hours before his troops stormed these shores, he told them, \"You are about to embark on the great crusade towards which we have striven these many months\"\n"
     ]
    },
    {
     "name": "stdin",
     "output_type": "stream",
     "text": [
      " \n"
     ]
    },
    {
     "name": "stdout",
     "output_type": "stream",
     "text": [
      "Correct Response:Eisenhower\n"
     ]
    },
    {
     "name": "stdin",
     "output_type": "stream",
     "text": [
      " \n"
     ]
    },
    {
     "name": "stdout",
     "output_type": "stream",
     "text": [
      "Category:PULITZER PRIZE WINNERS\n",
      "Round:DJ Row:2.0\n",
      "Clue:(I'm Jonathan Capehart of The Washington Post.)  As part of a New York Daily News team, I won a 1999 Pulitzer for an editorial series that helped rescue this historic Harlem theater from financial mismanagement that had threatened its survival\n"
     ]
    },
    {
     "name": "stdin",
     "output_type": "stream",
     "text": [
      " \n"
     ]
    },
    {
     "name": "stdout",
     "output_type": "stream",
     "text": [
      "Correct Response:the Apollo\n"
     ]
    },
    {
     "name": "stdin",
     "output_type": "stream",
     "text": [
      " \n"
     ]
    },
    {
     "name": "stdout",
     "output_type": "stream",
     "text": [
      "Category:BROADWAY 2017\n",
      "Round:DJ Row:3.0\n",
      "Clue:Revived in 2017 & set during the final days of the Vietnam War, \"Miss Saigon\" was inspired by this Puccini opera\n"
     ]
    },
    {
     "name": "stdin",
     "output_type": "stream",
     "text": [
      " \n"
     ]
    },
    {
     "name": "stdout",
     "output_type": "stream",
     "text": [
      "Correct Response:Madame Butterfly\n"
     ]
    },
    {
     "name": "stdin",
     "output_type": "stream",
     "text": [
      " \n"
     ]
    },
    {
     "name": "stdout",
     "output_type": "stream",
     "text": [
      "Category:NYPD\n",
      "Round:J Row:2.0\n",
      "Clue:(Jimmy of the Clue Crew reports from an NYPD station.)  A Level C Tyvek suit is used by this NYPD unit that's named for the material they're dispatched to work around\n"
     ]
    },
    {
     "name": "stdin",
     "output_type": "stream",
     "text": [
      " \n"
     ]
    },
    {
     "name": "stdout",
     "output_type": "stream",
     "text": [
      "Correct Response:a HAZMAT suit\n"
     ]
    },
    {
     "name": "stdin",
     "output_type": "stream",
     "text": [
      " \n"
     ]
    },
    {
     "name": "stdout",
     "output_type": "stream",
     "text": [
      "Number correct: 0\n",
      "Number incorrect: 5\n",
      "Total Time: 11.780356000000001\n",
      "Seconds/Question: 2.3560712\n"
     ]
    }
   ],
   "source": [
    "practice_questions(df, 5)"
   ]
  },
  {
   "cell_type": "markdown",
   "metadata": {},
   "source": [
    "You can also subset the data to ask questions from a specific round"
   ]
  },
  {
   "cell_type": "code",
   "execution_count": 6,
   "metadata": {},
   "outputs": [
    {
     "name": "stdout",
     "output_type": "stream",
     "text": [
      "Category:PRESIDENTIAL CANDIDATES\n",
      "Round:FJ Row:nan\n",
      "Clue:This is the most recent presidential election year when both major presidential candidates were residents of the same state\n"
     ]
    },
    {
     "name": "stdin",
     "output_type": "stream",
     "text": [
      " \n"
     ]
    },
    {
     "name": "stdout",
     "output_type": "stream",
     "text": [
      "Correct Response:2016\n"
     ]
    },
    {
     "name": "stdin",
     "output_type": "stream",
     "text": [
      " \n"
     ]
    },
    {
     "name": "stdout",
     "output_type": "stream",
     "text": [
      "Category:POLITICAL LITERATURE\n",
      "Round:FJ Row:nan\n",
      "Clue:The key message to this title figure in an Italian work is \"it is far safer to be feared than loved\"\n"
     ]
    },
    {
     "name": "stdin",
     "output_type": "stream",
     "text": [
      " \n"
     ]
    },
    {
     "name": "stdout",
     "output_type": "stream",
     "text": [
      "Correct Response:The Prince\n"
     ]
    },
    {
     "name": "stdin",
     "output_type": "stream",
     "text": [
      " \n"
     ]
    },
    {
     "name": "stdout",
     "output_type": "stream",
     "text": [
      "Category:THE HISTORY OF FRANCE\n",
      "Round:FJ Row:nan\n",
      "Clue:This modern regime that lasted 4 years changed the national motto to \"Travail, Famille, Patrie\"--\"Work, Family, Fatherland\"\n"
     ]
    },
    {
     "name": "stdin",
     "output_type": "stream",
     "text": [
      " \n"
     ]
    },
    {
     "name": "stdout",
     "output_type": "stream",
     "text": [
      "Correct Response:Vichy France\n"
     ]
    },
    {
     "name": "stdin",
     "output_type": "stream",
     "text": [
      " \n"
     ]
    },
    {
     "name": "stdout",
     "output_type": "stream",
     "text": [
      "Category:POLITICALLY CORRECT POP CULTURE\n",
      "Round:FJ Row:nan\n",
      "Clue:The violence goes on, but in 2006 Time Warner TV removed depictions of this activity from old \"Tom and Jerry\" cartoons\n"
     ]
    },
    {
     "name": "stdin",
     "output_type": "stream",
     "text": [
      " \n"
     ]
    },
    {
     "name": "stdout",
     "output_type": "stream",
     "text": [
      "Correct Response:smoking\n"
     ]
    },
    {
     "name": "stdin",
     "output_type": "stream",
     "text": [
      " \n"
     ]
    },
    {
     "name": "stdout",
     "output_type": "stream",
     "text": [
      "Category:BODIES OF WATER\n",
      "Round:FJ Row:nan\n",
      "Clue:First encountered in 1648 by a man born in Russia, it was eventually named after a man born in Denmark\n"
     ]
    },
    {
     "name": "stdin",
     "output_type": "stream",
     "text": [
      " \n"
     ]
    },
    {
     "name": "stdout",
     "output_type": "stream",
     "text": [
      "Correct Response:the Bering Strait\n"
     ]
    },
    {
     "name": "stdin",
     "output_type": "stream",
     "text": [
      " \n"
     ]
    },
    {
     "name": "stdout",
     "output_type": "stream",
     "text": [
      "Number correct: 0\n",
      "Number incorrect: 5\n",
      "Total Time: 10.512469999999999\n",
      "Seconds/Question: 2.1024939999999996\n"
     ]
    }
   ],
   "source": [
    "fj = df[df['round'] == \"FJ\"]\n",
    "practice_questions(fj, 5)"
   ]
  },
  {
   "cell_type": "markdown",
   "metadata": {},
   "source": [
    "Or subset to a specific category"
   ]
  },
  {
   "cell_type": "code",
   "execution_count": 7,
   "metadata": {},
   "outputs": [
    {
     "name": "stdout",
     "output_type": "stream",
     "text": [
      "Category:AMERICAN HISTORY\n",
      "Round:DJ Row:5.0\n",
      "Clue:This education reformer took John Quincy Adams' seat in the House of Representatives, where he vigorously opposed slavery\n"
     ]
    },
    {
     "name": "stdin",
     "output_type": "stream",
     "text": [
      " \n"
     ]
    },
    {
     "name": "stdout",
     "output_type": "stream",
     "text": [
      "Correct Response:Horace Mann\n"
     ]
    },
    {
     "name": "stdin",
     "output_type": "stream",
     "text": [
      " \n"
     ]
    },
    {
     "name": "stdout",
     "output_type": "stream",
     "text": [
      "Category:AMERICAN HISTORY\n",
      "Round:J Row:3.0\n",
      "Clue:The oldest continuously settled city in America, it was named for the Bishop of Hippo\n"
     ]
    },
    {
     "name": "stdin",
     "output_type": "stream",
     "text": [
      " \n"
     ]
    },
    {
     "name": "stdout",
     "output_type": "stream",
     "text": [
      "Correct Response:St. Augustine\n"
     ]
    },
    {
     "name": "stdin",
     "output_type": "stream",
     "text": [
      " \n"
     ]
    },
    {
     "name": "stdout",
     "output_type": "stream",
     "text": [
      "Category:AMERICAN HISTORY\n",
      "Round:FJ Row:nan\n",
      "Clue:This volunteer group was born in May 1898 near the bar in San Antonio's Menger Hotel; it existed for just 133 days\n"
     ]
    },
    {
     "name": "stdin",
     "output_type": "stream",
     "text": [
      " \n"
     ]
    },
    {
     "name": "stdout",
     "output_type": "stream",
     "text": [
      "Correct Response:the Rough Riders\n"
     ]
    },
    {
     "name": "stdin",
     "output_type": "stream",
     "text": [
      " \n"
     ]
    },
    {
     "name": "stdout",
     "output_type": "stream",
     "text": [
      "Category:AMERICAN HISTORY\n",
      "Round:DJ Row:1.0\n",
      "Clue:In 1540 Garcia Lopez de Cardenas found this natural wonder; his men tried to climb down to the Colorado River but failed\n"
     ]
    },
    {
     "name": "stdin",
     "output_type": "stream",
     "text": [
      " \n"
     ]
    },
    {
     "name": "stdout",
     "output_type": "stream",
     "text": [
      "Correct Response:the Grand Canyon\n"
     ]
    },
    {
     "name": "stdin",
     "output_type": "stream",
     "text": [
      " \n"
     ]
    },
    {
     "name": "stdout",
     "output_type": "stream",
     "text": [
      "Category:AMERICAN HISTORY\n",
      "Round:J Row:2.0\n",
      "Clue:This period in the South can be divided into presidential (1865-1867) & Congressional or Radical (1867-1877)\n"
     ]
    },
    {
     "name": "stdin",
     "output_type": "stream",
     "text": [
      " \n"
     ]
    },
    {
     "name": "stdout",
     "output_type": "stream",
     "text": [
      "Correct Response:Reconstruction\n"
     ]
    },
    {
     "name": "stdin",
     "output_type": "stream",
     "text": [
      " \n"
     ]
    },
    {
     "name": "stdout",
     "output_type": "stream",
     "text": [
      "Number correct: 0\n",
      "Number incorrect: 5\n",
      "Total Time: 24.709909900000003\n",
      "Seconds/Question: 4.94198198\n"
     ]
    }
   ],
   "source": [
    "history = df[df['category'] == \"AMERICAN HISTORY\"]\n",
    "practice_questions(history, 5)"
   ]
  }
 ],
 "metadata": {
  "kernelspec": {
   "display_name": "Python 3",
   "language": "python",
   "name": "python3"
  },
  "language_info": {
   "codemirror_mode": {
    "name": "ipython",
    "version": 3
   },
   "file_extension": ".py",
   "mimetype": "text/x-python",
   "name": "python",
   "nbconvert_exporter": "python",
   "pygments_lexer": "ipython3",
   "version": "3.8.5"
  }
 },
 "nbformat": 4,
 "nbformat_minor": 4
}
