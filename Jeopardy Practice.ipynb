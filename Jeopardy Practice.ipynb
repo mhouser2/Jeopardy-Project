{
 "cells": [
  {
   "cell_type": "markdown",
   "metadata": {},
   "source": [
    "# Jeopardy Practice\n",
    "\n",
    "The purpose of this notebook is to create a simple function that asks the user to input the correct response to Jeopardy clues and records the number of correct/incorrect responses"
   ]
  },
  {
   "cell_type": "code",
   "execution_count": 21,
   "metadata": {},
   "outputs": [],
   "source": [
    "import time\n",
    "import os\n",
    "import pandas as pd\n",
    "pd.options.display.max_colwidth = 125\n",
    "pd.options.display.max_rows = 100\n",
    "os.chdir('C:\\\\Users\\\\mhous\\\\scrap\\\\JeopardyProject')"
   ]
  },
  {
   "cell_type": "code",
   "execution_count": 22,
   "metadata": {},
   "outputs": [
    {
     "data": {
      "text/html": [
       "<div>\n",
       "<style scoped>\n",
       "    .dataframe tbody tr th:only-of-type {\n",
       "        vertical-align: middle;\n",
       "    }\n",
       "\n",
       "    .dataframe tbody tr th {\n",
       "        vertical-align: top;\n",
       "    }\n",
       "\n",
       "    .dataframe thead th {\n",
       "        text-align: right;\n",
       "    }\n",
       "</style>\n",
       "<table border=\"1\" class=\"dataframe\">\n",
       "  <thead>\n",
       "    <tr style=\"text-align: right;\">\n",
       "      <th></th>\n",
       "      <th>game_id</th>\n",
       "      <th>show_number</th>\n",
       "      <th>date</th>\n",
       "      <th>value</th>\n",
       "      <th>round</th>\n",
       "      <th>category</th>\n",
       "      <th>column</th>\n",
       "      <th>row</th>\n",
       "      <th>order_number</th>\n",
       "      <th>clue</th>\n",
       "      <th>correct_response</th>\n",
       "      <th>correct</th>\n",
       "      <th>incorrect</th>\n",
       "      <th>n_correct</th>\n",
       "      <th>n_incorrect</th>\n",
       "      <th>n_didnt_know</th>\n",
       "    </tr>\n",
       "  </thead>\n",
       "  <tbody>\n",
       "    <tr>\n",
       "      <th>0</th>\n",
       "      <td>Show #7943 - Wednesday, March 6, 2019</td>\n",
       "      <td>7943</td>\n",
       "      <td>2019-03-06</td>\n",
       "      <td>$200</td>\n",
       "      <td>J</td>\n",
       "      <td>HISTORIC STRUCTURES</td>\n",
       "      <td>1.0</td>\n",
       "      <td>1.0</td>\n",
       "      <td>8</td>\n",
       "      <td>In an effort to preserve this 800-year-old Italian structure, really heavy counterweights were installed</td>\n",
       "      <td>the Leaning Tower of Pisa</td>\n",
       "      <td>Tim</td>\n",
       "      <td>NaN</td>\n",
       "      <td>1</td>\n",
       "      <td>0</td>\n",
       "      <td>0</td>\n",
       "    </tr>\n",
       "    <tr>\n",
       "      <th>1</th>\n",
       "      <td>Show #7943 - Wednesday, March 6, 2019</td>\n",
       "      <td>7943</td>\n",
       "      <td>2019-03-06</td>\n",
       "      <td>$400</td>\n",
       "      <td>J</td>\n",
       "      <td>HISTORIC STRUCTURES</td>\n",
       "      <td>1.0</td>\n",
       "      <td>2.0</td>\n",
       "      <td>9</td>\n",
       "      <td>Before billeting the RAF in World War II, Blickling Estate was the birthplace of this second wife of Henry VIII</td>\n",
       "      <td>Anne Boleyn</td>\n",
       "      <td>Eric</td>\n",
       "      <td>NaN</td>\n",
       "      <td>1</td>\n",
       "      <td>0</td>\n",
       "      <td>0</td>\n",
       "    </tr>\n",
       "    <tr>\n",
       "      <th>2</th>\n",
       "      <td>Show #7943 - Wednesday, March 6, 2019</td>\n",
       "      <td>7943</td>\n",
       "      <td>2019-03-06</td>\n",
       "      <td>$600</td>\n",
       "      <td>J</td>\n",
       "      <td>HISTORIC STRUCTURES</td>\n",
       "      <td>1.0</td>\n",
       "      <td>3.0</td>\n",
       "      <td>10</td>\n",
       "      <td>Later famous as a rock concert venue, Tokyo's Nippon Budokan Hall was built to host this martial art at the 1964 Olympics</td>\n",
       "      <td>judo</td>\n",
       "      <td>Tim</td>\n",
       "      <td>NaN</td>\n",
       "      <td>1</td>\n",
       "      <td>0</td>\n",
       "      <td>0</td>\n",
       "    </tr>\n",
       "    <tr>\n",
       "      <th>3</th>\n",
       "      <td>Show #7943 - Wednesday, March 6, 2019</td>\n",
       "      <td>7943</td>\n",
       "      <td>2019-03-06</td>\n",
       "      <td>$800</td>\n",
       "      <td>J</td>\n",
       "      <td>HISTORIC STRUCTURES</td>\n",
       "      <td>1.0</td>\n",
       "      <td>4.0</td>\n",
       "      <td>11</td>\n",
       "      <td>\"Scholars\" know the Knights Hospitaller had a palace for the grand master on this large Greek island</td>\n",
       "      <td>Rhodes</td>\n",
       "      <td>NaN</td>\n",
       "      <td>Dana, Tim, Triple Stumper</td>\n",
       "      <td>0</td>\n",
       "      <td>2</td>\n",
       "      <td>3</td>\n",
       "    </tr>\n",
       "    <tr>\n",
       "      <th>4</th>\n",
       "      <td>Show #7943 - Wednesday, March 6, 2019</td>\n",
       "      <td>7943</td>\n",
       "      <td>2019-03-06</td>\n",
       "      <td>$1000</td>\n",
       "      <td>J</td>\n",
       "      <td>HISTORIC STRUCTURES</td>\n",
       "      <td>1.0</td>\n",
       "      <td>5.0</td>\n",
       "      <td>12</td>\n",
       "      <td>Herod built this Israel mountain fortress; later the Romans had trouble taking it from the Zealots</td>\n",
       "      <td>Masada</td>\n",
       "      <td>Dana</td>\n",
       "      <td>NaN</td>\n",
       "      <td>1</td>\n",
       "      <td>0</td>\n",
       "      <td>0</td>\n",
       "    </tr>\n",
       "    <tr>\n",
       "      <th>5</th>\n",
       "      <td>Show #7943 - Wednesday, March 6, 2019</td>\n",
       "      <td>7943</td>\n",
       "      <td>2019-03-06</td>\n",
       "      <td>$200</td>\n",
       "      <td>J</td>\n",
       "      <td>ALPHANUMERIC ATHLETES</td>\n",
       "      <td>2.0</td>\n",
       "      <td>1.0</td>\n",
       "      <td>21</td>\n",
       "      <td>Married to GB: TB12</td>\n",
       "      <td>Tom Brady</td>\n",
       "      <td>Eric</td>\n",
       "      <td>NaN</td>\n",
       "      <td>1</td>\n",
       "      <td>0</td>\n",
       "      <td>0</td>\n",
       "    </tr>\n",
       "    <tr>\n",
       "      <th>6</th>\n",
       "      <td>Show #7943 - Wednesday, March 6, 2019</td>\n",
       "      <td>7943</td>\n",
       "      <td>2019-03-06</td>\n",
       "      <td>$400</td>\n",
       "      <td>J</td>\n",
       "      <td>ALPHANUMERIC ATHLETES</td>\n",
       "      <td>2.0</td>\n",
       "      <td>2.0</td>\n",
       "      <td>22</td>\n",
       "      <td>Recently retired: KB24</td>\n",
       "      <td>Kobe Bryant</td>\n",
       "      <td>Eric</td>\n",
       "      <td>NaN</td>\n",
       "      <td>1</td>\n",
       "      <td>0</td>\n",
       "      <td>0</td>\n",
       "    </tr>\n",
       "    <tr>\n",
       "      <th>7</th>\n",
       "      <td>Show #7943 - Wednesday, March 6, 2019</td>\n",
       "      <td>7943</td>\n",
       "      <td>2019-03-06</td>\n",
       "      <td>$600</td>\n",
       "      <td>J</td>\n",
       "      <td>ALPHANUMERIC ATHLETES</td>\n",
       "      <td>2.0</td>\n",
       "      <td>3.0</td>\n",
       "      <td>23</td>\n",
       "      <td>Point guard CP3</td>\n",
       "      <td>Chris Paul</td>\n",
       "      <td>Eric</td>\n",
       "      <td>NaN</td>\n",
       "      <td>1</td>\n",
       "      <td>0</td>\n",
       "      <td>0</td>\n",
       "    </tr>\n",
       "    <tr>\n",
       "      <th>8</th>\n",
       "      <td>Show #7943 - Wednesday, March 6, 2019</td>\n",
       "      <td>7943</td>\n",
       "      <td>2019-03-06</td>\n",
       "      <td>$800</td>\n",
       "      <td>J</td>\n",
       "      <td>ALPHANUMERIC ATHLETES</td>\n",
       "      <td>2.0</td>\n",
       "      <td>4.0</td>\n",
       "      <td>24</td>\n",
       "      <td>Heisman Trophy winner RG#3</td>\n",
       "      <td>Robert Griffin III</td>\n",
       "      <td>Eric</td>\n",
       "      <td>NaN</td>\n",
       "      <td>1</td>\n",
       "      <td>0</td>\n",
       "      <td>0</td>\n",
       "    </tr>\n",
       "    <tr>\n",
       "      <th>9</th>\n",
       "      <td>Show #7943 - Wednesday, March 6, 2019</td>\n",
       "      <td>7943</td>\n",
       "      <td>2019-03-06</td>\n",
       "      <td>$1000</td>\n",
       "      <td>J</td>\n",
       "      <td>ALPHANUMERIC ATHLETES</td>\n",
       "      <td>2.0</td>\n",
       "      <td>5.0</td>\n",
       "      <td>25</td>\n",
       "      <td>Hall of Fame running back LT2</td>\n",
       "      <td>LaDainian Tomlinson</td>\n",
       "      <td>NaN</td>\n",
       "      <td>Eric, Tim, Triple Stumper</td>\n",
       "      <td>0</td>\n",
       "      <td>2</td>\n",
       "      <td>3</td>\n",
       "    </tr>\n",
       "  </tbody>\n",
       "</table>\n",
       "</div>"
      ],
      "text/plain": [
       "                                 game_id  show_number        date  value  \\\n",
       "0  Show #7943 - Wednesday, March 6, 2019         7943  2019-03-06   $200   \n",
       "1  Show #7943 - Wednesday, March 6, 2019         7943  2019-03-06   $400   \n",
       "2  Show #7943 - Wednesday, March 6, 2019         7943  2019-03-06   $600   \n",
       "3  Show #7943 - Wednesday, March 6, 2019         7943  2019-03-06   $800   \n",
       "4  Show #7943 - Wednesday, March 6, 2019         7943  2019-03-06  $1000   \n",
       "5  Show #7943 - Wednesday, March 6, 2019         7943  2019-03-06   $200   \n",
       "6  Show #7943 - Wednesday, March 6, 2019         7943  2019-03-06   $400   \n",
       "7  Show #7943 - Wednesday, March 6, 2019         7943  2019-03-06   $600   \n",
       "8  Show #7943 - Wednesday, March 6, 2019         7943  2019-03-06   $800   \n",
       "9  Show #7943 - Wednesday, March 6, 2019         7943  2019-03-06  $1000   \n",
       "\n",
       "  round               category  column  row order_number  \\\n",
       "0     J    HISTORIC STRUCTURES     1.0  1.0            8   \n",
       "1     J    HISTORIC STRUCTURES     1.0  2.0            9   \n",
       "2     J    HISTORIC STRUCTURES     1.0  3.0           10   \n",
       "3     J    HISTORIC STRUCTURES     1.0  4.0           11   \n",
       "4     J    HISTORIC STRUCTURES     1.0  5.0           12   \n",
       "5     J  ALPHANUMERIC ATHLETES     2.0  1.0           21   \n",
       "6     J  ALPHANUMERIC ATHLETES     2.0  2.0           22   \n",
       "7     J  ALPHANUMERIC ATHLETES     2.0  3.0           23   \n",
       "8     J  ALPHANUMERIC ATHLETES     2.0  4.0           24   \n",
       "9     J  ALPHANUMERIC ATHLETES     2.0  5.0           25   \n",
       "\n",
       "                                                                                                                        clue  \\\n",
       "0                   In an effort to preserve this 800-year-old Italian structure, really heavy counterweights were installed   \n",
       "1            Before billeting the RAF in World War II, Blickling Estate was the birthplace of this second wife of Henry VIII   \n",
       "2  Later famous as a rock concert venue, Tokyo's Nippon Budokan Hall was built to host this martial art at the 1964 Olympics   \n",
       "3                       \"Scholars\" know the Knights Hospitaller had a palace for the grand master on this large Greek island   \n",
       "4                         Herod built this Israel mountain fortress; later the Romans had trouble taking it from the Zealots   \n",
       "5                                                                                                        Married to GB: TB12   \n",
       "6                                                                                                     Recently retired: KB24   \n",
       "7                                                                                                            Point guard CP3   \n",
       "8                                                                                                 Heisman Trophy winner RG#3   \n",
       "9                                                                                              Hall of Fame running back LT2   \n",
       "\n",
       "            correct_response correct                  incorrect  n_correct  \\\n",
       "0  the Leaning Tower of Pisa     Tim                        NaN          1   \n",
       "1                Anne Boleyn    Eric                        NaN          1   \n",
       "2                       judo     Tim                        NaN          1   \n",
       "3                     Rhodes     NaN  Dana, Tim, Triple Stumper          0   \n",
       "4                     Masada    Dana                        NaN          1   \n",
       "5                  Tom Brady    Eric                        NaN          1   \n",
       "6                Kobe Bryant    Eric                        NaN          1   \n",
       "7                 Chris Paul    Eric                        NaN          1   \n",
       "8         Robert Griffin III    Eric                        NaN          1   \n",
       "9        LaDainian Tomlinson     NaN  Eric, Tim, Triple Stumper          0   \n",
       "\n",
       "   n_incorrect  n_didnt_know  \n",
       "0            0             0  \n",
       "1            0             0  \n",
       "2            0             0  \n",
       "3            2             3  \n",
       "4            0             0  \n",
       "5            0             0  \n",
       "6            0             0  \n",
       "7            0             0  \n",
       "8            0             0  \n",
       "9            2             3  "
      ]
     },
     "execution_count": 22,
     "metadata": {},
     "output_type": "execute_result"
    }
   ],
   "source": [
    "df = pd.read_csv('clues.csv')\n",
    "\n",
    "df.head(10)"
   ]
  },
  {
   "cell_type": "markdown",
   "metadata": {},
   "source": [
    "The purpose of the override is to manually record if you got the answer correct, but the input differed from the correct response due to spelling, parentheses, etc.\n",
    "\n",
    "Just put \"Y\" as the override and it will be counted"
   ]
  },
  {
   "cell_type": "code",
   "execution_count": 23,
   "metadata": {},
   "outputs": [],
   "source": [
    "def random_clue(data):\n",
    "    random_int = np.random.randint(0, len(data))\n",
    "    category = data.iloc[random_int]['category']\n",
    "    clue = data.iloc[random_int]['clue']\n",
    "    correct_response = data.iloc[random_int]['correct_response']\n",
    "    game_round = data.iloc[random_int]['round']\n",
    "    row = data.iloc[random_int]['row']\n",
    "    print(\"Category:\" + category)\n",
    "    print(\"Round:\"  + game_round + \" Row:\" + str(row))\n",
    "    time.sleep(1)\n",
    "    print(\"Clue:\" + clue)\n",
    "    response = input()\n",
    "    print(\"Correct Response:\" + correct_response)\n",
    "    override = input()\n",
    "    if response == correct_response or override == \"Y\":\n",
    "        return True\n",
    "    else:\n",
    "        return False"
   ]
  },
  {
   "cell_type": "code",
   "execution_count": 24,
   "metadata": {},
   "outputs": [],
   "source": [
    "def practice_questions(data, n_questions):\n",
    "    start_time = time.perf_counter()\n",
    "    r = 0\n",
    "    w = 0\n",
    "    for i in range(n_questions):\n",
    "        response = random_clue(data)\n",
    "        if response == True:\n",
    "            r +=1\n",
    "        else:\n",
    "            w +=1\n",
    "    end_time = time.perf_counter()\n",
    "    print('Number correct: %s' % r)\n",
    "    print('Number incorrect: %s' % w)\n",
    "    print('Total Time: %s' % str(end_time-start_time))\n",
    "    print('Seconds/Question: %s' % str((end_time-start_time)/n_questions))"
   ]
  },
  {
   "cell_type": "code",
   "execution_count": 25,
   "metadata": {},
   "outputs": [
    {
     "name": "stdout",
     "output_type": "stream",
     "text": [
      "Category:OF OUTRAGEOUS FORTUNE\n",
      "Round:J Row:2.0\n",
      "Clue:Talk about throwing your money away: ex-Tyco CEO Dennis Kozlowski spent $2,200 on a gilt metal one of these\n"
     ]
    },
    {
     "name": "stdin",
     "output_type": "stream",
     "text": [
      " \n"
     ]
    },
    {
     "name": "stdout",
     "output_type": "stream",
     "text": [
      "Correct Response:a trash can\n"
     ]
    },
    {
     "name": "stdin",
     "output_type": "stream",
     "text": [
      " \n"
     ]
    },
    {
     "name": "stdout",
     "output_type": "stream",
     "text": [
      "Category:FIRST NAME FILL-IN\n",
      "Round:J Row:4.0\n",
      "Clue:Mr. Club, seen here\n"
     ]
    },
    {
     "name": "stdin",
     "output_type": "stream",
     "text": [
      " \n"
     ]
    },
    {
     "name": "stdout",
     "output_type": "stream",
     "text": [
      "Correct Response:billy\n"
     ]
    },
    {
     "name": "stdin",
     "output_type": "stream",
     "text": [
      " \n"
     ]
    },
    {
     "name": "stdout",
     "output_type": "stream",
     "text": [
      "Category:CHARLESTON CHOOSY\n",
      "Round:J Row:4.0\n",
      "Clue:The April 1861 Confederate capture of this site precipitated the Civil War\n"
     ]
    },
    {
     "name": "stdin",
     "output_type": "stream",
     "text": [
      " \n"
     ]
    },
    {
     "name": "stdout",
     "output_type": "stream",
     "text": [
      "Correct Response:Fort Sumter\n"
     ]
    },
    {
     "name": "stdin",
     "output_type": "stream",
     "text": [
      " \n"
     ]
    },
    {
     "name": "stdout",
     "output_type": "stream",
     "text": [
      "Category:A SINGLE TREE\n",
      "Round:J Row:1.0\n",
      "Clue:Sequoia National Park has the General Grant tree & a 255-footer named for this man, Grant's boss\n"
     ]
    },
    {
     "name": "stdin",
     "output_type": "stream",
     "text": [
      " \n"
     ]
    },
    {
     "name": "stdout",
     "output_type": "stream",
     "text": [
      "Correct Response:Lincoln\n"
     ]
    },
    {
     "name": "stdin",
     "output_type": "stream",
     "text": [
      " \n"
     ]
    },
    {
     "name": "stdout",
     "output_type": "stream",
     "text": [
      "Category:FOREIGN 2-LETTER WORDS\n",
      "Round:DJ Row:1.0\n",
      "Clue:A Spanish senorita's lips may say, \"No No No\", but her eyes say this this this\n"
     ]
    },
    {
     "name": "stdin",
     "output_type": "stream",
     "text": [
      " \n"
     ]
    },
    {
     "name": "stdout",
     "output_type": "stream",
     "text": [
      "Correct Response:Si Si Si\n"
     ]
    },
    {
     "name": "stdin",
     "output_type": "stream",
     "text": [
      " \n"
     ]
    },
    {
     "name": "stdout",
     "output_type": "stream",
     "text": [
      "Number correct: 0\n",
      "Number incorrect: 5\n",
      "Total Time: 11.849765899999966\n",
      "Seconds/Question: 2.3699531799999933\n"
     ]
    }
   ],
   "source": [
    "practice_questions(df, 5)"
   ]
  },
  {
   "cell_type": "markdown",
   "metadata": {},
   "source": [
    "You can also subset the data to ask questions from a specific round"
   ]
  },
  {
   "cell_type": "code",
   "execution_count": 26,
   "metadata": {},
   "outputs": [
    {
     "name": "stdout",
     "output_type": "stream",
     "text": [
      "Category:FAMOUS HOMES\n",
      "Round:FJ Row:nan\n",
      "Clue:Purchased in 1957 & called \"the second most famous home in America\", it was designated a National Historic Landmark in 2006\n"
     ]
    },
    {
     "name": "stdin",
     "output_type": "stream",
     "text": [
      " \n"
     ]
    },
    {
     "name": "stdout",
     "output_type": "stream",
     "text": [
      "Correct Response:Graceland\n"
     ]
    },
    {
     "name": "stdin",
     "output_type": "stream",
     "text": [
      " \n"
     ]
    },
    {
     "name": "stdout",
     "output_type": "stream",
     "text": [
      "Category:1960s TV CHARACTERS\n",
      "Round:FJ Row:nan\n",
      "Clue:One of her first spoken lines is translated as \"You have the face of a wise and fearless caliph\"\n"
     ]
    },
    {
     "name": "stdin",
     "output_type": "stream",
     "text": [
      " \n"
     ]
    },
    {
     "name": "stdout",
     "output_type": "stream",
     "text": [
      "Correct Response:Jeannie\n"
     ]
    },
    {
     "name": "stdin",
     "output_type": "stream",
     "text": [
      " \n"
     ]
    },
    {
     "name": "stdout",
     "output_type": "stream",
     "text": [
      "Category:HISTORIC HOMES\n",
      "Round:FJ Row:nan\n",
      "Clue:Also known as the \"House of His Majesty\", Fairfield House in England was the home of this African leader from 1936 to 1941\n"
     ]
    },
    {
     "name": "stdin",
     "output_type": "stream",
     "text": [
      " \n"
     ]
    },
    {
     "name": "stdout",
     "output_type": "stream",
     "text": [
      "Correct Response:Haile Selassie\n"
     ]
    },
    {
     "name": "stdin",
     "output_type": "stream",
     "text": [
      " \n"
     ]
    },
    {
     "name": "stdout",
     "output_type": "stream",
     "text": [
      "Category:WORLD CAPITALS\n",
      "Round:FJ Row:nan\n",
      "Clue:This capital city of 113,000 is the closest national capital to the Arctic Circle\n"
     ]
    },
    {
     "name": "stdin",
     "output_type": "stream",
     "text": [
      " \n"
     ]
    },
    {
     "name": "stdout",
     "output_type": "stream",
     "text": [
      "Correct Response:Reykjavík\n"
     ]
    },
    {
     "name": "stdin",
     "output_type": "stream",
     "text": [
      " \n"
     ]
    },
    {
     "name": "stdout",
     "output_type": "stream",
     "text": [
      "Category:WORLD CITIES\n",
      "Round:FJ Row:nan\n",
      "Clue:The food item that some named for Vienna, others named for this city 400 miles away\n"
     ]
    },
    {
     "name": "stdin",
     "output_type": "stream",
     "text": [
      " \n"
     ]
    },
    {
     "name": "stdout",
     "output_type": "stream",
     "text": [
      "Correct Response:Frankfurt\n"
     ]
    },
    {
     "name": "stdin",
     "output_type": "stream",
     "text": [
      " \n"
     ]
    },
    {
     "name": "stdout",
     "output_type": "stream",
     "text": [
      "Number correct: 0\n",
      "Number incorrect: 5\n",
      "Total Time: 63.13244949999989\n",
      "Seconds/Question: 12.626489899999978\n"
     ]
    }
   ],
   "source": [
    "fj = df[df['round'] == \"FJ\"]\n",
    "practice_questions(fj, 5)"
   ]
  },
  {
   "cell_type": "markdown",
   "metadata": {},
   "source": [
    "Or subset to a specific category"
   ]
  },
  {
   "cell_type": "code",
   "execution_count": 27,
   "metadata": {},
   "outputs": [
    {
     "name": "stdout",
     "output_type": "stream",
     "text": [
      "Category:AMERICAN HISTORY\n",
      "Round:J Row:1.0\n",
      "Clue:This fort that successfully defended Baltimore in 1814 was built in the shape of a 5-pointed star\n"
     ]
    },
    {
     "name": "stdin",
     "output_type": "stream",
     "text": [
      " \n"
     ]
    },
    {
     "name": "stdout",
     "output_type": "stream",
     "text": [
      "Correct Response:McHenry\n"
     ]
    },
    {
     "name": "stdin",
     "output_type": "stream",
     "text": [
      " \n"
     ]
    },
    {
     "name": "stdout",
     "output_type": "stream",
     "text": [
      "Category:AMERICAN HISTORY\n",
      "Round:DJ Row:2.0\n",
      "Clue:Andrew Jackson was one of the landowners who founded this Tennessee town overlooking the Mississippi in 1819\n"
     ]
    },
    {
     "name": "stdin",
     "output_type": "stream",
     "text": [
      " \n"
     ]
    },
    {
     "name": "stdout",
     "output_type": "stream",
     "text": [
      "Correct Response:Memphis\n"
     ]
    },
    {
     "name": "stdin",
     "output_type": "stream",
     "text": [
      " \n"
     ]
    },
    {
     "name": "stdout",
     "output_type": "stream",
     "text": [
      "Category:AMERICAN HISTORY\n",
      "Round:DJ Row:3.0\n",
      "Clue:This tycoon's Northern Securities company was dissolved in 1904 for violating the Sherman Antitrust Act\n"
     ]
    },
    {
     "name": "stdin",
     "output_type": "stream",
     "text": [
      " \n"
     ]
    },
    {
     "name": "stdout",
     "output_type": "stream",
     "text": [
      "Correct Response:(J.P.) Morgan\n"
     ]
    },
    {
     "name": "stdin",
     "output_type": "stream",
     "text": [
      " \n"
     ]
    },
    {
     "name": "stdout",
     "output_type": "stream",
     "text": [
      "Category:AMERICAN HISTORY\n",
      "Round:FJ Row:nan\n",
      "Clue:In 1899, a reunion of this alliterative squad took place, with the governor of New York fittingly on horseback\n"
     ]
    },
    {
     "name": "stdin",
     "output_type": "stream",
     "text": [
      " \n"
     ]
    },
    {
     "name": "stdout",
     "output_type": "stream",
     "text": [
      "Correct Response:the Rough Riders\n"
     ]
    },
    {
     "name": "stdin",
     "output_type": "stream",
     "text": [
      " \n"
     ]
    },
    {
     "name": "stdout",
     "output_type": "stream",
     "text": [
      "Category:AMERICAN HISTORY\n",
      "Round:DJ Row:4.0\n",
      "Clue:Interior Secretary Albert Bacon Fall was convicted of bribery in leasing out oil reserves in Elk Hills, Buena Vista & this site\n"
     ]
    },
    {
     "name": "stdin",
     "output_type": "stream",
     "text": [
      " \n"
     ]
    },
    {
     "name": "stdout",
     "output_type": "stream",
     "text": [
      "Correct Response:the Teapot Dome\n"
     ]
    },
    {
     "name": "stdin",
     "output_type": "stream",
     "text": [
      " \n"
     ]
    },
    {
     "name": "stdout",
     "output_type": "stream",
     "text": [
      "Number correct: 0\n",
      "Number incorrect: 5\n",
      "Total Time: 49.99822989999984\n",
      "Seconds/Question: 9.999645979999968\n"
     ]
    }
   ],
   "source": [
    "history = df[df['category'] == \"AMERICAN HISTORY\"]\n",
    "practice_questions(history, 5)"
   ]
  }
 ],
 "metadata": {
  "kernelspec": {
   "display_name": "Python 3",
   "language": "python",
   "name": "python3"
  },
  "language_info": {
   "codemirror_mode": {
    "name": "ipython",
    "version": 3
   },
   "file_extension": ".py",
   "mimetype": "text/x-python",
   "name": "python",
   "nbconvert_exporter": "python",
   "pygments_lexer": "ipython3",
   "version": "3.8.5"
  }
 },
 "nbformat": 4,
 "nbformat_minor": 4
}
